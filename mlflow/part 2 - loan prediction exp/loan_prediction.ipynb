{
 "cells": [
  {
   "cell_type": "markdown",
   "id": "76ca8509",
   "metadata": {},
   "source": [
    "# Start Real Experiment"
   ]
  },
  {
   "cell_type": "markdown",
   "id": "d165d770",
   "metadata": {},
   "source": [
    "A financial institution was facing increasing pressure to improve the efficiency and fairness of its loan approval process.  \n",
    "With growing competition and a push toward digital transformation, the bank needed to reduce manual decision-making, minimize default risk, and ensure more consistent approvals. However, loan officers were relying heavily on subjective judgment, leading to inconsistencies, delays, and missed opportunities. \n",
    "\n",
    "To address this, the bank began collecting detailed data on past loan applicants—including their income, employment status, credit history, and loan outcomes—with the goal of developing a data-driven system to predict loan approval chances. \n",
    "\n",
    "Our task is to analyze this data, build a reliable prediction model, and help the bank automate and optimize its loan evaluation process."
   ]
  },
  {
   "cell_type": "markdown",
   "id": "a4fbdd5b",
   "metadata": {},
   "source": [
    "## Loan Prediction"
   ]
  },
  {
   "cell_type": "code",
   "execution_count": 1,
   "id": "b91bf4d2",
   "metadata": {},
   "outputs": [],
   "source": [
    "# Importing the required packages\n",
    "import pandas as pd\n",
    "import numpy as np\n",
    "from sklearn.linear_model import LogisticRegression\n",
    "from sklearn.ensemble import RandomForestClassifier\n",
    "from sklearn.tree import DecisionTreeClassifier\n",
    "from matplotlib import pyplot as plt\n",
    "from sklearn.model_selection import train_test_split, GridSearchCV\n",
    "from sklearn import metrics\n",
    "from sklearn.preprocessing import  LabelEncoder\n",
    "import mlflow\n",
    "import os\n"
   ]
  },
  {
   "cell_type": "markdown",
   "id": "df77618c",
   "metadata": {},
   "source": [
    "Setup the user name to be logged"
   ]
  },
  {
   "cell_type": "code",
   "execution_count": 2,
   "id": "499d1ab9",
   "metadata": {},
   "outputs": [],
   "source": [
    "os.environ[\"LOGNAME\"] = \"Heba\"\n",
    "RANDOM_SEED = 6"
   ]
  },
  {
   "cell_type": "markdown",
   "id": "f1439664",
   "metadata": {},
   "source": [
    "### Load & Explore The Data"
   ]
  },
  {
   "cell_type": "code",
   "execution_count": 3,
   "id": "520a6cce",
   "metadata": {},
   "outputs": [
    {
     "data": {
      "text/html": [
       "<div>\n",
       "<style scoped>\n",
       "    .dataframe tbody tr th:only-of-type {\n",
       "        vertical-align: middle;\n",
       "    }\n",
       "\n",
       "    .dataframe tbody tr th {\n",
       "        vertical-align: top;\n",
       "    }\n",
       "\n",
       "    .dataframe thead th {\n",
       "        text-align: right;\n",
       "    }\n",
       "</style>\n",
       "<table border=\"1\" class=\"dataframe\">\n",
       "  <thead>\n",
       "    <tr style=\"text-align: right;\">\n",
       "      <th></th>\n",
       "      <th>Loan_ID</th>\n",
       "      <th>Gender</th>\n",
       "      <th>Married</th>\n",
       "      <th>Dependents</th>\n",
       "      <th>Education</th>\n",
       "      <th>Self_Employed</th>\n",
       "      <th>ApplicantIncome</th>\n",
       "      <th>CoapplicantIncome</th>\n",
       "      <th>LoanAmount</th>\n",
       "      <th>Loan_Amount_Term</th>\n",
       "      <th>Credit_History</th>\n",
       "      <th>Property_Area</th>\n",
       "      <th>Loan_Status</th>\n",
       "    </tr>\n",
       "  </thead>\n",
       "  <tbody>\n",
       "    <tr>\n",
       "      <th>0</th>\n",
       "      <td>LP001002</td>\n",
       "      <td>Male</td>\n",
       "      <td>No</td>\n",
       "      <td>0</td>\n",
       "      <td>Graduate</td>\n",
       "      <td>No</td>\n",
       "      <td>5849</td>\n",
       "      <td>0.0</td>\n",
       "      <td>NaN</td>\n",
       "      <td>360.0</td>\n",
       "      <td>1.0</td>\n",
       "      <td>Urban</td>\n",
       "      <td>Y</td>\n",
       "    </tr>\n",
       "    <tr>\n",
       "      <th>1</th>\n",
       "      <td>LP001003</td>\n",
       "      <td>Male</td>\n",
       "      <td>Yes</td>\n",
       "      <td>1</td>\n",
       "      <td>Graduate</td>\n",
       "      <td>No</td>\n",
       "      <td>4583</td>\n",
       "      <td>1508.0</td>\n",
       "      <td>128.0</td>\n",
       "      <td>360.0</td>\n",
       "      <td>1.0</td>\n",
       "      <td>Rural</td>\n",
       "      <td>N</td>\n",
       "    </tr>\n",
       "    <tr>\n",
       "      <th>2</th>\n",
       "      <td>LP001005</td>\n",
       "      <td>Male</td>\n",
       "      <td>Yes</td>\n",
       "      <td>0</td>\n",
       "      <td>Graduate</td>\n",
       "      <td>Yes</td>\n",
       "      <td>3000</td>\n",
       "      <td>0.0</td>\n",
       "      <td>66.0</td>\n",
       "      <td>360.0</td>\n",
       "      <td>1.0</td>\n",
       "      <td>Urban</td>\n",
       "      <td>Y</td>\n",
       "    </tr>\n",
       "    <tr>\n",
       "      <th>3</th>\n",
       "      <td>LP001006</td>\n",
       "      <td>Male</td>\n",
       "      <td>Yes</td>\n",
       "      <td>0</td>\n",
       "      <td>Not Graduate</td>\n",
       "      <td>No</td>\n",
       "      <td>2583</td>\n",
       "      <td>2358.0</td>\n",
       "      <td>120.0</td>\n",
       "      <td>360.0</td>\n",
       "      <td>1.0</td>\n",
       "      <td>Urban</td>\n",
       "      <td>Y</td>\n",
       "    </tr>\n",
       "    <tr>\n",
       "      <th>4</th>\n",
       "      <td>LP001008</td>\n",
       "      <td>Male</td>\n",
       "      <td>No</td>\n",
       "      <td>0</td>\n",
       "      <td>Graduate</td>\n",
       "      <td>No</td>\n",
       "      <td>6000</td>\n",
       "      <td>0.0</td>\n",
       "      <td>141.0</td>\n",
       "      <td>360.0</td>\n",
       "      <td>1.0</td>\n",
       "      <td>Urban</td>\n",
       "      <td>Y</td>\n",
       "    </tr>\n",
       "  </tbody>\n",
       "</table>\n",
       "</div>"
      ],
      "text/plain": [
       "    Loan_ID Gender Married Dependents     Education Self_Employed  \\\n",
       "0  LP001002   Male      No          0      Graduate            No   \n",
       "1  LP001003   Male     Yes          1      Graduate            No   \n",
       "2  LP001005   Male     Yes          0      Graduate           Yes   \n",
       "3  LP001006   Male     Yes          0  Not Graduate            No   \n",
       "4  LP001008   Male      No          0      Graduate            No   \n",
       "\n",
       "   ApplicantIncome  CoapplicantIncome  LoanAmount  Loan_Amount_Term  \\\n",
       "0             5849                0.0         NaN             360.0   \n",
       "1             4583             1508.0       128.0             360.0   \n",
       "2             3000                0.0        66.0             360.0   \n",
       "3             2583             2358.0       120.0             360.0   \n",
       "4             6000                0.0       141.0             360.0   \n",
       "\n",
       "   Credit_History Property_Area Loan_Status  \n",
       "0             1.0         Urban           Y  \n",
       "1             1.0         Rural           N  \n",
       "2             1.0         Urban           Y  \n",
       "3             1.0         Urban           Y  \n",
       "4             1.0         Urban           Y  "
      ]
     },
     "execution_count": 3,
     "metadata": {},
     "output_type": "execute_result"
    }
   ],
   "source": [
    "# load the dataset\n",
    "loan_data_path = r\"./loan_data.csv\"\n",
    "dataset = pd.read_csv(loan_data_path)\n",
    "dataset.head()"
   ]
  },
  {
   "cell_type": "markdown",
   "id": "cb596054",
   "metadata": {},
   "source": [
    "The loan dataset consists of 614 records, each representing a loan application with 13 features capturing applicant details and loan information. \n",
    "\n",
    "Key attributes include demographic data such as gender, marital status, and education; financial details like applicant and coapplicant income; and loan-specific information including loan amount, loan term, credit history, and loan status (approved or not). \n",
    "\n",
    "While most columns are complete, some contain missing values, particularly in \"Credit\\_History\", \"LoanAmount\", and \"Self\\_Employed\", indicating the need for preprocessing before analysis or modeling."
   ]
  },
  {
   "cell_type": "code",
   "execution_count": 4,
   "id": "a7cb89f0",
   "metadata": {},
   "outputs": [
    {
     "name": "stdout",
     "output_type": "stream",
     "text": [
      "<class 'pandas.core.frame.DataFrame'>\n",
      "RangeIndex: 614 entries, 0 to 613\n",
      "Data columns (total 13 columns):\n",
      " #   Column             Non-Null Count  Dtype  \n",
      "---  ------             --------------  -----  \n",
      " 0   Loan_ID            614 non-null    object \n",
      " 1   Gender             601 non-null    object \n",
      " 2   Married            611 non-null    object \n",
      " 3   Dependents         599 non-null    object \n",
      " 4   Education          614 non-null    object \n",
      " 5   Self_Employed      582 non-null    object \n",
      " 6   ApplicantIncome    614 non-null    int64  \n",
      " 7   CoapplicantIncome  614 non-null    float64\n",
      " 8   LoanAmount         592 non-null    float64\n",
      " 9   Loan_Amount_Term   600 non-null    float64\n",
      " 10  Credit_History     564 non-null    float64\n",
      " 11  Property_Area      614 non-null    object \n",
      " 12  Loan_Status        614 non-null    object \n",
      "dtypes: float64(4), int64(1), object(8)\n",
      "memory usage: 62.5+ KB\n"
     ]
    }
   ],
   "source": [
    "dataset.info()"
   ]
  },
  {
   "cell_type": "markdown",
   "id": "18420814",
   "metadata": {},
   "source": [
    "### **Data Preprocessing Steps**\n",
    "\n",
    "1. **Feature Separation**\n",
    "\n",
    "   * Numerical columns were identified using data types `int64` and `float64`.\n",
    "   * Categorical columns were identified using the `object` type, excluding the target column `Loan_Status` and the identifier `Loan_ID`.\n",
    "\n",
    "2. **Handling Missing Values**\n",
    "\n",
    "   * **Categorical columns**: Missing values were filled with the mode (most frequent value) of each column.\n",
    "   * **Numerical columns**: Missing values were filled with the median of each column.\n",
    "\n",
    "3. **Outlier Treatment**\n",
    "\n",
    "   * Numerical columns were clipped to their 5th and 95th percentiles to reduce the impact of extreme outliers.\n",
    "\n",
    "4. **Feature Transformation and Engineering**\n",
    "\n",
    "   * Applied log transformation to the `LoanAmount` feature to normalize its distribution.\n",
    "   * Created a new feature `TotalIncome` by summing `ApplicantIncome` and `CoapplicantIncome`, then applied a log transformation to it.\n",
    "   * Removed the original `ApplicantIncome` and `CoapplicantIncome` columns as they were now represented in `TotalIncome`.\n",
    "\n",
    "5. **Encoding Categorical Variables**\n",
    "\n",
    "   * All categorical columns (excluding `Loan_Status` and `Loan_ID`) were label-encoded using `LabelEncoder`.\n",
    "   * The target variable `Loan_Status` was also label-encoded to prepare it for classification.\n",
    "\n",
    "6. **Train-Test Split**\n",
    "\n",
    "   * The dataset was split into training and testing sets using a 70-30 ratio, with a fixed random seed (`random_state=6`) to ensure reproducibility.\n",
    "   * Features (`X`) excluded `Loan_Status` and `Loan_ID`, while the target (`y`) was set as `Loan_Status`."
   ]
  },
  {
   "cell_type": "code",
   "execution_count": 5,
   "id": "6bbda564",
   "metadata": {},
   "outputs": [],
   "source": [
    "numerical_cols = dataset.select_dtypes(include=['int64','float64']).columns.tolist()\n",
    "categorical_cols = dataset.select_dtypes(include=['object']).columns.tolist()\n",
    "categorical_cols.remove('Loan_Status')\n",
    "categorical_cols.remove('Loan_ID')\n",
    "\n",
    "# Filling categorical columns with mode\n",
    "for col in categorical_cols:\n",
    "    dataset[col] = dataset[col].fillna(dataset[col].mode()[0])\n",
    "\n",
    "# Filling Numerical columns with median\n",
    "for col in numerical_cols:\n",
    "    dataset[col] = dataset[col].fillna(dataset[col].median())\n",
    "\n",
    "# Take care of outliers\n",
    "dataset[numerical_cols] = dataset[numerical_cols].apply(lambda x: x.clip(*x.quantile([0.05, 0.95])))\n",
    "\n",
    "# Log Transforamtion & Domain Processing\n",
    "dataset['LoanAmount'] = np.log(dataset['LoanAmount']).copy()\n",
    "dataset['TotalIncome'] = dataset['ApplicantIncome'] + dataset['CoapplicantIncome']\n",
    "dataset['TotalIncome'] = np.log(dataset['TotalIncome']).copy()\n",
    "\n",
    "\n",
    "# Dropping ApplicantIncome and CoapplicantIncome\n",
    "dataset = dataset.drop(columns=['ApplicantIncome','CoapplicantIncome'])\n",
    "\n",
    "# Label encoding categorical variables\n",
    "for col in categorical_cols:\n",
    "    le = LabelEncoder()\n",
    "    dataset[col] = le.fit_transform(dataset[col])\n",
    "\n",
    "#Encode the target columns\n",
    "dataset['Loan_Status'] = le.fit_transform(dataset['Loan_Status'])\n",
    "\n",
    "# Train test split\n",
    "X = dataset.drop(columns=['Loan_Status', 'Loan_ID'])\n",
    "y = dataset.Loan_Status\n",
    "\n",
    "X_train, X_test, y_train, y_test = train_test_split(X,y, test_size =0.3, random_state = RANDOM_SEED)"
   ]
  },
  {
   "cell_type": "markdown",
   "id": "e2497379",
   "metadata": {},
   "source": [
    "The previous code has several issues and bad practicies:\n",
    "\n",
    "- Imputation on the whole dataset (data leakage)  \n",
    "    Problem: You compute modes and medians on all 614 records, then split into train/test—information from the test set leaks into the imputers.\n",
    "\n",
    "- Outlier clipping before split (more leakage)  \n",
    "    Problem: Clipping by the 5th/95th percentiles of the full dataset again leaks test information.\n",
    "\n",
    "- Log-transforming zero or negative values  \n",
    "    Problem: Taking np.log(…) of zeros (e.g. if LoanAmount or TotalIncome ever equals 0) raises -inf or NaNs.\n",
    "\n",
    "- Reusing the same LabelEncoder for all columns and the target  \n",
    "    Problem: You instantiate a new LabelEncoder inside the loop, but then reuse the last one to encode Loan_Status, so the mapping might be inconsistent.\n",
    "\n",
    "- Pipeline & reproducibility  \n",
    "    Problem: A manual “for loop” approach is hard to maintain, and easy to get out of sync between train/test."
   ]
  },
  {
   "cell_type": "code",
   "execution_count": 4,
   "id": "ac07c662",
   "metadata": {},
   "outputs": [],
   "source": [
    "# Identify column types\n",
    "numerical_cols = dataset.select_dtypes(include=['int64', 'float64']).columns.tolist()\n",
    "categorical_cols = dataset.select_dtypes(include=['object']).columns.tolist()\n",
    "categorical_cols.remove('Loan_Status')\n",
    "categorical_cols.remove('Loan_ID')\n",
    "\n",
    "# Train-test split before any transformation\n",
    "X = dataset.drop(columns=['Loan_Status', 'Loan_ID'])\n",
    "y = dataset['Loan_Status']\n",
    "\n",
    "X_train, X_test, y_train, y_test = train_test_split(X, y, test_size=0.3, random_state=RANDOM_SEED)\n",
    "\n",
    "# === Impute categorical features ===\n",
    "from sklearn.impute import SimpleImputer\n",
    "\n",
    "cat_imputer = SimpleImputer(strategy='most_frequent')\n",
    "X_train[categorical_cols] = cat_imputer.fit_transform(X_train[categorical_cols])\n",
    "X_test[categorical_cols] = cat_imputer.transform(X_test[categorical_cols])\n",
    "\n",
    "# === Impute numerical features ===\n",
    "num_imputer = SimpleImputer(strategy='median')\n",
    "X_train[numerical_cols] = num_imputer.fit_transform(X_train[numerical_cols])\n",
    "X_test[numerical_cols] = num_imputer.transform(X_test[numerical_cols])\n",
    "\n",
    "# === Clip outliers (based on train quantiles) ===\n",
    "lower = X_train[numerical_cols].quantile(0.05)\n",
    "upper = X_train[numerical_cols].quantile(0.95)\n",
    "X_train[numerical_cols] = X_train[numerical_cols].clip(lower=lower, upper=upper, axis=1)\n",
    "X_test[numerical_cols] = X_test[numerical_cols].clip(lower=lower, upper=upper, axis=1)\n",
    "\n",
    "# === Feature engineering: log(LoanAmount), TotalIncome ===\n",
    "X_train['LoanAmount'] = np.log1p(X_train['LoanAmount'])\n",
    "X_test['LoanAmount'] = np.log1p(X_test['LoanAmount'])\n",
    "\n",
    "X_train['TotalIncome'] = X_train['ApplicantIncome'] + X_train['CoapplicantIncome']\n",
    "X_test['TotalIncome'] = X_test['ApplicantIncome'] + X_test['CoapplicantIncome']\n",
    "\n",
    "X_train['TotalIncome'] = np.log1p(X_train['TotalIncome'])\n",
    "X_test['TotalIncome'] = np.log1p(X_test['TotalIncome'])\n",
    "\n",
    "# Drop original income columns\n",
    "X_train = X_train.drop(columns=['ApplicantIncome', 'CoapplicantIncome'])\n",
    "X_test = X_test.drop(columns=['ApplicantIncome', 'CoapplicantIncome'])\n",
    "\n",
    "# === Label encode categorical variables ===\n",
    "cat_encoders = {}\n",
    "for col in categorical_cols:\n",
    "    le = LabelEncoder()\n",
    "    X_train[col] = le.fit_transform(X_train[col])\n",
    "    X_test[col] = le.transform(X_test[col])\n",
    "    cat_encoders[col] = le  # Save encoder if needed later\n",
    "\n",
    "# === Encode target variable ===\n",
    "target_le = LabelEncoder()\n",
    "y_train = target_le.fit_transform(y_train)\n",
    "y_test = target_le.transform(y_test)"
   ]
  },
  {
   "cell_type": "code",
   "execution_count": null,
   "id": "5c346d29",
   "metadata": {},
   "outputs": [],
   "source": [
    "# from sklearn.pipeline import Pipeline, make_pipeline\n",
    "# from sklearn.compose import ColumnTransformer\n",
    "# from sklearn.impute import SimpleImputer\n",
    "# from sklearn.preprocessing import FunctionTransformer, OrdinalEncoder, LabelEncoder\n",
    "# from sklearn.base import BaseEstimator, TransformerMixin\n",
    "\n",
    "# # 1) Split first to avoid leakage\n",
    "# X = dataset.drop(columns=['Loan_Status', 'Loan_ID'])\n",
    "# y = dataset['Loan_Status']\n",
    "\n",
    "# X_train, X_test, y_train, y_test = train_test_split(\n",
    "#     X, y, test_size=0.3, random_state=6\n",
    "# )\n",
    "\n",
    "# # 2) Define column lists\n",
    "# numerical_cols = X_train.select_dtypes(include=['int64','float64']).columns.tolist()\n",
    "# categorical_cols = X_train.select_dtypes(include=['object']).columns.tolist()\n",
    "\n",
    "# # 3.1) Custom transformer for outlier clipping\n",
    "# class QuantileClipper(BaseEstimator, TransformerMixin):\n",
    "#     def __init__(self, lower=0.05, upper=0.95):\n",
    "#         self.lower = lower\n",
    "#         self.upper = upper\n",
    "\n",
    "#     def fit(self, X, y=None):\n",
    "#         if isinstance(X, np.ndarray):\n",
    "#             X = pd.DataFrame(X)\n",
    "\n",
    "#         # Compute quantiles on TRAINING data only\n",
    "#         self.q_lower_ = X.quantile(self.lower)\n",
    "#         self.q_upper_ = X.quantile(self.upper)\n",
    "#         return self\n",
    "\n",
    "#     def transform(self, X):\n",
    "#         return X.clip(self.q_lower_, self.q_upper_)\n",
    "\n",
    "# # 3.2) Custom feature engineering transformer\n",
    "# class TotalIncomeAdder(BaseEstimator, TransformerMixin):\n",
    "#     def __init__(self, numerical_cols):\n",
    "#         self.numerical_cols = numerical_cols\n",
    "\n",
    "#     def fit(self, X, y=None):\n",
    "#         # Store feature names during fit\n",
    "#         if isinstance(X, pd.DataFrame):\n",
    "#             self.feature_names_ = X.columns\n",
    "#         else:\n",
    "#             self.feature_names_ = self.numerical_cols # Fallback if it's a NumPy array\n",
    "#         return self\n",
    "\n",
    "#     def transform(self, X):\n",
    "#         # Convert to DataFrame if needed\n",
    "#         if isinstance(X, np.ndarray):\n",
    "#             X = pd.DataFrame(X, columns=self.feature_names_)\n",
    "#         X = X.copy()\n",
    "#         if all(col in X.columns for col in ['ApplicantIncome', 'CoapplicantIncome']):\n",
    "#             X['TotalIncome'] = X['ApplicantIncome'] + X['CoapplicantIncome']\n",
    "#             X = X.drop(columns=['ApplicantIncome', 'CoapplicantIncome'])\n",
    "#         return X\n",
    "\n",
    "# # 4) Build numerical pipeline\n",
    "# num_pipeline = Pipeline([\n",
    "#     ('imputer', SimpleImputer(strategy='median')),\n",
    "#     ('clipper', QuantileClipper(lower=0.05, upper=0.95)),\n",
    "#     ('total_income', TotalIncomeAdder(numerical_cols)),\n",
    "#     ('log', FunctionTransformer(np.log1p, validate=False))\n",
    "# ])\n",
    "\n",
    "# # 5) Build categorical pipeline\n",
    "# cat_pipeline = Pipeline([\n",
    "#     ('imputer', SimpleImputer(strategy='most_frequent')),\n",
    "#     ('encoder', OrdinalEncoder())     # or OneHotEncoder() if you prefer\n",
    "# ])\n",
    "\n",
    "# # 6) Combine into a ColumnTransformer\n",
    "# preprocessor = ColumnTransformer([\n",
    "#     ('cat', cat_pipeline, categorical_cols),\n",
    "#     ('num', num_pipeline, numerical_cols)\n",
    "# ])\n",
    "\n",
    "# # 7) Fit & transform data\n",
    "# X_train_proc = preprocessor.fit_transform(X_train)\n",
    "# X_test_proc  = preprocessor.transform(X_test)\n",
    "\n",
    "# # 8) Encode target separately\n",
    "# target_le = LabelEncoder()\n",
    "# y_train_enc = target_le.fit_transform(y_train)\n",
    "# y_test_enc  = target_le.transform(y_test)"
   ]
  },
  {
   "cell_type": "markdown",
   "id": "fe0fe56a",
   "metadata": {},
   "source": [
    "### Experiment with different models"
   ]
  },
  {
   "cell_type": "markdown",
   "id": "87681411",
   "metadata": {},
   "source": [
    "Now, we'll experiment with three different models [Random Forest Classifier, Logistic Regression, Decision Tree Classifier] using grid search for each"
   ]
  },
  {
   "cell_type": "code",
   "execution_count": 5,
   "id": "07fa71a0",
   "metadata": {},
   "outputs": [],
   "source": [
    "# RandomForest\n",
    "rf = RandomForestClassifier(random_state=RANDOM_SEED)\n",
    "param_grid_forest = {\n",
    "    'n_estimators': [200,400, 700],\n",
    "    'max_depth': [10,20,30],\n",
    "    'criterion' : [\"gini\", \"entropy\"],\n",
    "    'max_leaf_nodes': [50, 100]\n",
    "}\n",
    "\n",
    "grid_forest = GridSearchCV(\n",
    "        estimator=rf,\n",
    "        param_grid=param_grid_forest, \n",
    "        cv=5, \n",
    "        n_jobs=-1, \n",
    "        scoring='accuracy',\n",
    "        verbose=0\n",
    "    )\n",
    "model_forest = grid_forest.fit(X_train, y_train)\n",
    "\n",
    "#Logistic Regression\n",
    "\n",
    "lr = LogisticRegression(random_state=RANDOM_SEED)\n",
    "param_grid_log = {\n",
    "    'C': [100, 10, 1.0, 0.1, 0.01],\n",
    "    'penalty': ['l1','l2'],\n",
    "    'solver':['liblinear']\n",
    "}\n",
    "\n",
    "grid_log = GridSearchCV(\n",
    "        estimator=lr,\n",
    "        param_grid=param_grid_log, \n",
    "        cv=5,\n",
    "        n_jobs=-1,\n",
    "        scoring='accuracy',\n",
    "        verbose=0\n",
    "    )\n",
    "model_log = grid_log.fit(X_train, y_train)\n",
    "\n",
    "#Decision Tree\n",
    "\n",
    "dt = DecisionTreeClassifier(\n",
    "    random_state=RANDOM_SEED\n",
    ")\n",
    "\n",
    "param_grid_tree = {\n",
    "    \"max_depth\": [3, 5, 7, 9, 11, 13],\n",
    "    'criterion' : [\"gini\", \"entropy\"],\n",
    "}\n",
    "\n",
    "grid_tree = GridSearchCV(\n",
    "        estimator=dt,\n",
    "        param_grid=param_grid_tree, \n",
    "        cv=5,\n",
    "        n_jobs=-1,\n",
    "        scoring='accuracy',\n",
    "        verbose=0\n",
    "    )\n",
    "model_tree = grid_tree.fit(X_train, y_train)"
   ]
  },
  {
   "cell_type": "markdown",
   "id": "1b0a031f",
   "metadata": {},
   "source": [
    "### Log the experiments"
   ]
  },
  {
   "cell_type": "markdown",
   "id": "31e2b2af",
   "metadata": {},
   "source": [
    "Firstly, set the tracking URI & experiment"
   ]
  },
  {
   "cell_type": "code",
   "execution_count": 6,
   "id": "04c5a1b9",
   "metadata": {},
   "outputs": [
    {
     "name": "stderr",
     "output_type": "stream",
     "text": [
      "2025/05/10 02:44:20 INFO mlflow.tracking.fluent: Experiment with name 'Loan_prediction' does not exist. Creating a new experiment.\n"
     ]
    },
    {
     "data": {
      "text/plain": [
       "<Experiment: artifact_location='mlflow-artifacts:/517529337940852463', creation_time=1746834260648, experiment_id='517529337940852463', last_update_time=1746834260648, lifecycle_stage='active', name='Loan_prediction', tags={}>"
      ]
     },
     "execution_count": 6,
     "metadata": {},
     "output_type": "execute_result"
    }
   ],
   "source": [
    "mlflow.set_tracking_uri(\"http://localhost:5000\")\n",
    "mlflow.set_experiment(\"Loan_prediction\")"
   ]
  },
  {
   "cell_type": "markdown",
   "id": "39e92d75",
   "metadata": {},
   "source": [
    "Here, we define a model evaluation and logging process using **MLflow**. \n",
    "\n",
    "It starts by implementing a custom evaluation function `eval_metrics` that calculates key performance metrics: accuracy, F1-score, and AUC, and generates a ROC curve which is saved as an image. \n",
    "\n",
    "Then, the `mlflow_logging` function takes a trained model and logs its best hyperparameters, evaluation metrics, the ROC curve plot as an artifact, and system metrics. It also logs the model itself and test dataset info for experiment tracking and reproducibility. \n",
    "\n",
    "Finally, this logging function is applied to three different models — Decision Tree, Logistic Regression, and Random Forest — to record and compare their performance on the test data."
   ]
  },
  {
   "cell_type": "code",
   "execution_count": 7,
   "id": "13eb08bf",
   "metadata": {},
   "outputs": [
    {
     "name": "stderr",
     "output_type": "stream",
     "text": [
      "c:\\Users\\RTX\\miniconda3\\envs\\mlops-course\\Lib\\site-packages\\mlflow\\types\\utils.py:452: UserWarning: Hint: Inferred schema contains integer column(s). Integer columns in Python cannot represent missing values. If your input data contains missing values at inference time, it will be encoded as floats and will cause a schema enforcement error. The best way to avoid this problem is to infer the model schema based on a realistic data sample (training dataset) that includes missing values. Alternatively, you can declare integer columns as doubles (float64) whenever these columns may have missing values. See `Handling Integers With Missing Values <https://www.mlflow.org/docs/latest/models.html#handling-integers-with-missing-values>`_ for more details.\n",
      "  warnings.warn(\n",
      "c:\\Users\\RTX\\miniconda3\\envs\\mlops-course\\Lib\\site-packages\\mlflow\\types\\utils.py:452: UserWarning: Hint: Inferred schema contains integer column(s). Integer columns in Python cannot represent missing values. If your input data contains missing values at inference time, it will be encoded as floats and will cause a schema enforcement error. The best way to avoid this problem is to infer the model schema based on a realistic data sample (training dataset) that includes missing values. Alternatively, you can declare integer columns as doubles (float64) whenever these columns may have missing values. See `Handling Integers With Missing Values <https://www.mlflow.org/docs/latest/models.html#handling-integers-with-missing-values>`_ for more details.\n",
      "  warnings.warn(\n"
     ]
    },
    {
     "name": "stdout",
     "output_type": "stream",
     "text": [
      "🏃 View run DecisionTreeClassifier at: http://localhost:5000/#/experiments/517529337940852463/runs/022e352fafe64c678da1a4632b5ed623\n",
      "🧪 View experiment at: http://localhost:5000/#/experiments/517529337940852463\n"
     ]
    },
    {
     "name": "stderr",
     "output_type": "stream",
     "text": [
      "c:\\Users\\RTX\\miniconda3\\envs\\mlops-course\\Lib\\site-packages\\mlflow\\types\\utils.py:452: UserWarning: Hint: Inferred schema contains integer column(s). Integer columns in Python cannot represent missing values. If your input data contains missing values at inference time, it will be encoded as floats and will cause a schema enforcement error. The best way to avoid this problem is to infer the model schema based on a realistic data sample (training dataset) that includes missing values. Alternatively, you can declare integer columns as doubles (float64) whenever these columns may have missing values. See `Handling Integers With Missing Values <https://www.mlflow.org/docs/latest/models.html#handling-integers-with-missing-values>`_ for more details.\n",
      "  warnings.warn(\n",
      "c:\\Users\\RTX\\miniconda3\\envs\\mlops-course\\Lib\\site-packages\\mlflow\\types\\utils.py:452: UserWarning: Hint: Inferred schema contains integer column(s). Integer columns in Python cannot represent missing values. If your input data contains missing values at inference time, it will be encoded as floats and will cause a schema enforcement error. The best way to avoid this problem is to infer the model schema based on a realistic data sample (training dataset) that includes missing values. Alternatively, you can declare integer columns as doubles (float64) whenever these columns may have missing values. See `Handling Integers With Missing Values <https://www.mlflow.org/docs/latest/models.html#handling-integers-with-missing-values>`_ for more details.\n",
      "  warnings.warn(\n"
     ]
    },
    {
     "name": "stdout",
     "output_type": "stream",
     "text": [
      "🏃 View run LogisticRegression at: http://localhost:5000/#/experiments/517529337940852463/runs/7f296bfbda7f43848803f5c9e062389d\n",
      "🧪 View experiment at: http://localhost:5000/#/experiments/517529337940852463\n"
     ]
    },
    {
     "name": "stderr",
     "output_type": "stream",
     "text": [
      "c:\\Users\\RTX\\miniconda3\\envs\\mlops-course\\Lib\\site-packages\\mlflow\\types\\utils.py:452: UserWarning: Hint: Inferred schema contains integer column(s). Integer columns in Python cannot represent missing values. If your input data contains missing values at inference time, it will be encoded as floats and will cause a schema enforcement error. The best way to avoid this problem is to infer the model schema based on a realistic data sample (training dataset) that includes missing values. Alternatively, you can declare integer columns as doubles (float64) whenever these columns may have missing values. See `Handling Integers With Missing Values <https://www.mlflow.org/docs/latest/models.html#handling-integers-with-missing-values>`_ for more details.\n",
      "  warnings.warn(\n"
     ]
    },
    {
     "name": "stdout",
     "output_type": "stream",
     "text": [
      "🏃 View run RandomForestClassifier at: http://localhost:5000/#/experiments/517529337940852463/runs/040e54fc1d1e4346ad8040b08ccb599b\n",
      "🧪 View experiment at: http://localhost:5000/#/experiments/517529337940852463\n"
     ]
    },
    {
     "name": "stderr",
     "output_type": "stream",
     "text": [
      "c:\\Users\\RTX\\miniconda3\\envs\\mlops-course\\Lib\\site-packages\\mlflow\\types\\utils.py:452: UserWarning: Hint: Inferred schema contains integer column(s). Integer columns in Python cannot represent missing values. If your input data contains missing values at inference time, it will be encoded as floats and will cause a schema enforcement error. The best way to avoid this problem is to infer the model schema based on a realistic data sample (training dataset) that includes missing values. Alternatively, you can declare integer columns as doubles (float64) whenever these columns may have missing values. See `Handling Integers With Missing Values <https://www.mlflow.org/docs/latest/models.html#handling-integers-with-missing-values>`_ for more details.\n",
      "  warnings.warn(\n"
     ]
    }
   ],
   "source": [
    "import mlflow.models\n",
    "import mlflow.sklearn\n",
    "\n",
    "\n",
    "def eval_metrics(actual, pred):\n",
    "    accuracy = metrics.accuracy_score(actual, pred)\n",
    "    f1 = metrics.f1_score(actual, pred, pos_label=1)\n",
    "    fpr, tpr, _ = metrics.roc_curve(actual, pred)\n",
    "    auc = metrics.auc(fpr, tpr)\n",
    "    plt.figure(figsize=(8,8))\n",
    "    plt.plot(fpr, tpr, color='blue', label='ROC curve area = %0.2f'%auc)\n",
    "    plt.plot([0,1],[0,1], 'r--')\n",
    "    plt.xlim([-0.1, 1.1])\n",
    "    plt.ylim([-0.1, 1.1])\n",
    "    plt.xlabel('False Positive Rate', size=14)\n",
    "    plt.ylabel('True Positive Rate', size=14)\n",
    "    plt.legend(loc='lower right')\n",
    "    # Save plot\n",
    "    os.makedirs(\"./plots\", exist_ok=True)\n",
    "    plt.savefig(\"./plots/ROC_curve.png\")\n",
    "    # Close plot\n",
    "    plt.close()\n",
    "    return(accuracy, f1, auc)\n",
    "\n",
    "\n",
    "def mlflow_logging(model, X, y, name):\n",
    "    \n",
    "     with mlflow.start_run(run_name=name) as run:\n",
    "        pred = model.predict(X)\n",
    "        #metrics\n",
    "        (accuracy, f1, auc) = eval_metrics(y, pred)\n",
    "        # Logging best parameters from gridsearch\n",
    "        mlflow.log_params(model.best_params_)\n",
    "        #log the metrics\n",
    "        mlflow.log_metrics({\n",
    "            \"Accuracy\": accuracy,\n",
    "            \"f1-score\": f1,\n",
    "            \"AUC\": auc,\n",
    "            \"Mean CV score\": model.best_score_\n",
    "        })\n",
    "\n",
    "        # Logging artifacts\n",
    "        mlflow.log_artifact(\"./plots/ROC_curve.png\")\n",
    "\n",
    "        ###### LOGGING THE DATASET & MODEL ######\n",
    "        # Create an instance of a PandasDataset\n",
    "\n",
    "        signature = mlflow.models.infer_signature(X, y) ### INFERING THE SIGNATURE\n",
    "        mlflow.sklearn.log_model(model, name, signature=signature, input_example=X) ### LOGGING THE MODEL\n",
    "\n",
    "        dataset = mlflow.data.from_pandas(\n",
    "            X, name=\"Loan Data Testing\"\n",
    "        )\n",
    "        mlflow.log_input(dataset, context=\"testing\")\n",
    "    \n",
    "        \n",
    "\n",
    "mlflow_logging(model_tree, X_test, y_test, \"DecisionTreeClassifier\")\n",
    "mlflow_logging(model_log, X_test, y_test, \"LogisticRegression\")\n",
    "mlflow_logging(model_forest, X_test, y_test, \"RandomForestClassifier\")"
   ]
  },
  {
   "cell_type": "markdown",
   "id": "8aa4bf78",
   "metadata": {},
   "source": [
    "## Nested Runs"
   ]
  },
  {
   "cell_type": "markdown",
   "id": "43109dd0",
   "metadata": {},
   "source": [
    "Here, we'll use a parent run with different nested runs representing the grid search training process.\n",
    "\n",
    "Introduced in this experimet, the `mlflow.evaluate`"
   ]
  },
  {
   "cell_type": "code",
   "execution_count": null,
   "id": "97a1389f",
   "metadata": {},
   "outputs": [
    {
     "name": "stderr",
     "output_type": "stream",
     "text": [
      "c:\\Users\\RTX\\miniconda3\\envs\\mlops-course\\Lib\\site-packages\\mlflow\\types\\utils.py:452: UserWarning: Hint: Inferred schema contains integer column(s). Integer columns in Python cannot represent missing values. If your input data contains missing values at inference time, it will be encoded as floats and will cause a schema enforcement error. The best way to avoid this problem is to infer the model schema based on a realistic data sample (training dataset) that includes missing values. Alternatively, you can declare integer columns as doubles (float64) whenever these columns may have missing values. See `Handling Integers With Missing Values <https://www.mlflow.org/docs/latest/models.html#handling-integers-with-missing-values>`_ for more details.\n",
      "  warnings.warn(\n",
      "2025/05/09 02:10:17 WARNING mlflow.models.model: Model logged without a signature and input example. Please set `input_example` parameter when logging the model to auto infer the model signature.\n",
      "c:\\Users\\RTX\\miniconda3\\envs\\mlops-course\\Lib\\site-packages\\mlflow\\types\\utils.py:452: UserWarning: Hint: Inferred schema contains integer column(s). Integer columns in Python cannot represent missing values. If your input data contains missing values at inference time, it will be encoded as floats and will cause a schema enforcement error. The best way to avoid this problem is to infer the model schema based on a realistic data sample (training dataset) that includes missing values. Alternatively, you can declare integer columns as doubles (float64) whenever these columns may have missing values. See `Handling Integers With Missing Values <https://www.mlflow.org/docs/latest/models.html#handling-integers-with-missing-values>`_ for more details.\n",
      "  warnings.warn(\n",
      "2025/05/09 02:10:17 WARNING mlflow.models.evaluation.evaluators.classifier: According to the evaluation dataset label values, the model type looks like None, but you specified model type 'classifier'. Please verify that you set the `model_type` and `dataset` arguments correctly.\n",
      "2025/05/09 02:10:17 INFO mlflow.models.evaluation.evaluators.classifier: The evaluation dataset is inferred as binary dataset, positive label is 1, negative label is 0.\n",
      "2025/05/09 02:10:17 INFO mlflow.models.evaluation.default_evaluator: Testing metrics on first row...\n",
      "2025/05/09 02:10:17 WARNING mlflow.models.evaluation.evaluators.shap: SHAP or matplotlib package is not installed, so model explainability insights will not be logged.\n"
     ]
    },
    {
     "name": "stdout",
     "output_type": "stream",
     "text": [
      "🏃 View run RandomForest Experiment at: http://localhost:5000/#/experiments/337955864653929902/runs/8905d706ac7946e6a5c6760ac4068a72\n",
      "🧪 View experiment at: http://localhost:5000/#/experiments/337955864653929902\n",
      "🏃 View run RandomForest Parent Experiment at: http://localhost:5000/#/experiments/337955864653929902/runs/a72a811299f6493eae29c4b302836377\n",
      "🧪 View experiment at: http://localhost:5000/#/experiments/337955864653929902\n"
     ]
    },
    {
     "data": {
      "text/plain": [
       "<Figure size 1050x700 with 0 Axes>"
      ]
     },
     "metadata": {},
     "output_type": "display_data"
    }
   ],
   "source": [
    "# Start a parent run\n",
    "with mlflow.start_run(run_name=\"RandomForest Parent Experiment\") as parent_run:\n",
    "    parent_run_id = parent_run.info.run_id  # Get the parent run ID\n",
    "    # Create an instance of a PandasDataset\n",
    "    dataset = mlflow.data.from_pandas(\n",
    "        X_train, name=\"Loan Data Training\"\n",
    "    )\n",
    "\n",
    "    mlflow.log_input(dataset, context=\"training\")\n",
    "    \n",
    "    # Start a nested run for RandomForest\n",
    "    with mlflow.start_run(run_name=\"RandomForest Experiment\", nested=True):\n",
    "        rf = RandomForestClassifier(random_state=RANDOM_SEED)\n",
    "        param_grid_forest = {\n",
    "            'n_estimators': [200, 400, 700],\n",
    "            'max_depth': [10, 20, 30],\n",
    "            'criterion': [\"gini\", \"entropy\"],\n",
    "            'max_leaf_nodes': [50, 100]\n",
    "        }\n",
    "\n",
    "        grid_forest = GridSearchCV(\n",
    "            estimator=rf,\n",
    "            param_grid=param_grid_forest,\n",
    "            cv=5,\n",
    "            n_jobs=-1,\n",
    "            scoring='accuracy',\n",
    "            verbose=0\n",
    "        )\n",
    "        model_forest = grid_forest.fit(X_train, y_train)\n",
    "\n",
    "        # Log parameters and metrics for the nested run\n",
    "        mlflow.log_params(grid_forest.best_params_)\n",
    "        # mlflow.log_params(model_forest.best_params_)\n",
    "        mlflow.log_metric(\"Mean CV score\", grid_forest.best_score_)\n",
    "\n",
    "        # Log the model\n",
    "        mlflow.sklearn.log_model(model_forest, \"RandomForestModel\")\n",
    "\n",
    "        ######## Evaluation Logging ########\n",
    "        eval_data = X_test.copy()\n",
    "        eval_data['Loan_Status'] = y_test\n",
    "        # Assign the decoded predictions to the Evaluation Dataset\n",
    "        eval_data[\"Predictions\"] = model_forest.predict(X=X_test)\n",
    "\n",
    "        # Create the PandasDataset for use in mlflow evaluate\n",
    "        pd_dataset = mlflow.data.from_pandas(\n",
    "            eval_data, predictions=\"Predictions\", targets=\"Loan_Status\", name=\"Loan Data Evaluation\"\n",
    "        )\n",
    "\n",
    "        result = mlflow.evaluate(data=pd_dataset, predictions=None, model_type=\"classifier\")"
   ]
  },
  {
   "cell_type": "markdown",
   "id": "a0fc57c1",
   "metadata": {},
   "source": [
    "Here, we will log each step of the training of the grid search process."
   ]
  },
  {
   "cell_type": "code",
   "execution_count": null,
   "id": "82af81b3",
   "metadata": {},
   "outputs": [
    {
     "name": "stderr",
     "output_type": "stream",
     "text": [
      "c:\\Users\\RTX\\miniconda3\\envs\\mlops-course\\Lib\\site-packages\\mlflow\\types\\utils.py:452: UserWarning: Hint: Inferred schema contains integer column(s). Integer columns in Python cannot represent missing values. If your input data contains missing values at inference time, it will be encoded as floats and will cause a schema enforcement error. The best way to avoid this problem is to infer the model schema based on a realistic data sample (training dataset) that includes missing values. Alternatively, you can declare integer columns as doubles (float64) whenever these columns may have missing values. See `Handling Integers With Missing Values <https://www.mlflow.org/docs/latest/models.html#handling-integers-with-missing-values>`_ for more details.\n",
      "  warnings.warn(\n",
      "c:\\Users\\RTX\\miniconda3\\envs\\mlops-course\\Lib\\site-packages\\mlflow\\types\\utils.py:452: UserWarning: Hint: Inferred schema contains integer column(s). Integer columns in Python cannot represent missing values. If your input data contains missing values at inference time, it will be encoded as floats and will cause a schema enforcement error. The best way to avoid this problem is to infer the model schema based on a realistic data sample (training dataset) that includes missing values. Alternatively, you can declare integer columns as doubles (float64) whenever these columns may have missing values. See `Handling Integers With Missing Values <https://www.mlflow.org/docs/latest/models.html#handling-integers-with-missing-values>`_ for more details.\n",
      "  warnings.warn(\n",
      "c:\\Users\\RTX\\miniconda3\\envs\\mlops-course\\Lib\\site-packages\\mlflow\\types\\utils.py:452: UserWarning: Hint: Inferred schema contains integer column(s). Integer columns in Python cannot represent missing values. If your input data contains missing values at inference time, it will be encoded as floats and will cause a schema enforcement error. The best way to avoid this problem is to infer the model schema based on a realistic data sample (training dataset) that includes missing values. Alternatively, you can declare integer columns as doubles (float64) whenever these columns may have missing values. See `Handling Integers With Missing Values <https://www.mlflow.org/docs/latest/models.html#handling-integers-with-missing-values>`_ for more details.\n",
      "  warnings.warn(\n",
      "2025/05/10 03:40:20 WARNING mlflow.models.evaluation.evaluators.classifier: According to the evaluation dataset label values, the model type looks like None, but you specified model type 'classifier'. Please verify that you set the `model_type` and `dataset` arguments correctly.\n",
      "2025/05/10 03:40:20 INFO mlflow.models.evaluation.evaluators.classifier: The evaluation dataset is inferred as binary dataset, positive label is 1, negative label is 0.\n",
      "2025/05/10 03:40:20 INFO mlflow.models.evaluation.default_evaluator: Testing metrics on first row...\n",
      "2025/05/10 03:40:20 WARNING mlflow.models.evaluation.evaluators.shap: SHAP or matplotlib package is not installed, so model explainability insights will not be logged.\n",
      "c:\\Users\\RTX\\miniconda3\\envs\\mlops-course\\Lib\\site-packages\\mlflow\\types\\utils.py:452: UserWarning: Hint: Inferred schema contains integer column(s). Integer columns in Python cannot represent missing values. If your input data contains missing values at inference time, it will be encoded as floats and will cause a schema enforcement error. The best way to avoid this problem is to infer the model schema based on a realistic data sample (training dataset) that includes missing values. Alternatively, you can declare integer columns as doubles (float64) whenever these columns may have missing values. See `Handling Integers With Missing Values <https://www.mlflow.org/docs/latest/models.html#handling-integers-with-missing-values>`_ for more details.\n",
      "  warnings.warn(\n"
     ]
    },
    {
     "name": "stdout",
     "output_type": "stream",
     "text": [
      "🏃 View run Params: {'criterion': 'gini', 'max_depth': 10, 'max_leaf_nodes': 50, 'n_estimators': 200} at: http://localhost:5000/#/experiments/517529337940852463/runs/69091998f63747d49e572666a8c7bd4d\n",
      "🧪 View experiment at: http://localhost:5000/#/experiments/517529337940852463\n"
     ]
    },
    {
     "name": "stderr",
     "output_type": "stream",
     "text": [
      "c:\\Users\\RTX\\miniconda3\\envs\\mlops-course\\Lib\\site-packages\\mlflow\\types\\utils.py:452: UserWarning: Hint: Inferred schema contains integer column(s). Integer columns in Python cannot represent missing values. If your input data contains missing values at inference time, it will be encoded as floats and will cause a schema enforcement error. The best way to avoid this problem is to infer the model schema based on a realistic data sample (training dataset) that includes missing values. Alternatively, you can declare integer columns as doubles (float64) whenever these columns may have missing values. See `Handling Integers With Missing Values <https://www.mlflow.org/docs/latest/models.html#handling-integers-with-missing-values>`_ for more details.\n",
      "  warnings.warn(\n",
      "2025/05/10 03:40:27 WARNING mlflow.models.evaluation.evaluators.classifier: According to the evaluation dataset label values, the model type looks like None, but you specified model type 'classifier'. Please verify that you set the `model_type` and `dataset` arguments correctly.\n",
      "2025/05/10 03:40:27 INFO mlflow.models.evaluation.evaluators.classifier: The evaluation dataset is inferred as binary dataset, positive label is 1, negative label is 0.\n",
      "2025/05/10 03:40:27 INFO mlflow.models.evaluation.default_evaluator: Testing metrics on first row...\n",
      "2025/05/10 03:40:27 WARNING mlflow.models.evaluation.evaluators.shap: SHAP or matplotlib package is not installed, so model explainability insights will not be logged.\n",
      "c:\\Users\\RTX\\miniconda3\\envs\\mlops-course\\Lib\\site-packages\\mlflow\\types\\utils.py:452: UserWarning: Hint: Inferred schema contains integer column(s). Integer columns in Python cannot represent missing values. If your input data contains missing values at inference time, it will be encoded as floats and will cause a schema enforcement error. The best way to avoid this problem is to infer the model schema based on a realistic data sample (training dataset) that includes missing values. Alternatively, you can declare integer columns as doubles (float64) whenever these columns may have missing values. See `Handling Integers With Missing Values <https://www.mlflow.org/docs/latest/models.html#handling-integers-with-missing-values>`_ for more details.\n",
      "  warnings.warn(\n"
     ]
    },
    {
     "name": "stdout",
     "output_type": "stream",
     "text": [
      "🏃 View run Params: {'criterion': 'gini', 'max_depth': 10, 'max_leaf_nodes': 50, 'n_estimators': 400} at: http://localhost:5000/#/experiments/517529337940852463/runs/d048c6b3e6684573b53a930029f26faa\n",
      "🧪 View experiment at: http://localhost:5000/#/experiments/517529337940852463\n"
     ]
    },
    {
     "name": "stderr",
     "output_type": "stream",
     "text": [
      "c:\\Users\\RTX\\miniconda3\\envs\\mlops-course\\Lib\\site-packages\\mlflow\\types\\utils.py:452: UserWarning: Hint: Inferred schema contains integer column(s). Integer columns in Python cannot represent missing values. If your input data contains missing values at inference time, it will be encoded as floats and will cause a schema enforcement error. The best way to avoid this problem is to infer the model schema based on a realistic data sample (training dataset) that includes missing values. Alternatively, you can declare integer columns as doubles (float64) whenever these columns may have missing values. See `Handling Integers With Missing Values <https://www.mlflow.org/docs/latest/models.html#handling-integers-with-missing-values>`_ for more details.\n",
      "  warnings.warn(\n",
      "2025/05/10 03:40:33 WARNING mlflow.models.evaluation.evaluators.classifier: According to the evaluation dataset label values, the model type looks like None, but you specified model type 'classifier'. Please verify that you set the `model_type` and `dataset` arguments correctly.\n",
      "2025/05/10 03:40:33 INFO mlflow.models.evaluation.evaluators.classifier: The evaluation dataset is inferred as binary dataset, positive label is 1, negative label is 0.\n",
      "2025/05/10 03:40:33 INFO mlflow.models.evaluation.default_evaluator: Testing metrics on first row...\n",
      "2025/05/10 03:40:33 WARNING mlflow.models.evaluation.evaluators.shap: SHAP or matplotlib package is not installed, so model explainability insights will not be logged.\n",
      "c:\\Users\\RTX\\miniconda3\\envs\\mlops-course\\Lib\\site-packages\\mlflow\\types\\utils.py:452: UserWarning: Hint: Inferred schema contains integer column(s). Integer columns in Python cannot represent missing values. If your input data contains missing values at inference time, it will be encoded as floats and will cause a schema enforcement error. The best way to avoid this problem is to infer the model schema based on a realistic data sample (training dataset) that includes missing values. Alternatively, you can declare integer columns as doubles (float64) whenever these columns may have missing values. See `Handling Integers With Missing Values <https://www.mlflow.org/docs/latest/models.html#handling-integers-with-missing-values>`_ for more details.\n",
      "  warnings.warn(\n"
     ]
    },
    {
     "name": "stdout",
     "output_type": "stream",
     "text": [
      "🏃 View run Params: {'criterion': 'gini', 'max_depth': 10, 'max_leaf_nodes': 50, 'n_estimators': 700} at: http://localhost:5000/#/experiments/517529337940852463/runs/df115d2c22ae4a0292cfbfb2cd5bf8d4\n",
      "🧪 View experiment at: http://localhost:5000/#/experiments/517529337940852463\n"
     ]
    },
    {
     "name": "stderr",
     "output_type": "stream",
     "text": [
      "c:\\Users\\RTX\\miniconda3\\envs\\mlops-course\\Lib\\site-packages\\mlflow\\types\\utils.py:452: UserWarning: Hint: Inferred schema contains integer column(s). Integer columns in Python cannot represent missing values. If your input data contains missing values at inference time, it will be encoded as floats and will cause a schema enforcement error. The best way to avoid this problem is to infer the model schema based on a realistic data sample (training dataset) that includes missing values. Alternatively, you can declare integer columns as doubles (float64) whenever these columns may have missing values. See `Handling Integers With Missing Values <https://www.mlflow.org/docs/latest/models.html#handling-integers-with-missing-values>`_ for more details.\n",
      "  warnings.warn(\n",
      "2025/05/10 03:40:38 WARNING mlflow.models.evaluation.evaluators.classifier: According to the evaluation dataset label values, the model type looks like None, but you specified model type 'classifier'. Please verify that you set the `model_type` and `dataset` arguments correctly.\n",
      "2025/05/10 03:40:38 INFO mlflow.models.evaluation.evaluators.classifier: The evaluation dataset is inferred as binary dataset, positive label is 1, negative label is 0.\n",
      "2025/05/10 03:40:38 INFO mlflow.models.evaluation.default_evaluator: Testing metrics on first row...\n",
      "2025/05/10 03:40:39 WARNING mlflow.models.evaluation.evaluators.shap: SHAP or matplotlib package is not installed, so model explainability insights will not be logged.\n",
      "c:\\Users\\RTX\\miniconda3\\envs\\mlops-course\\Lib\\site-packages\\mlflow\\types\\utils.py:452: UserWarning: Hint: Inferred schema contains integer column(s). Integer columns in Python cannot represent missing values. If your input data contains missing values at inference time, it will be encoded as floats and will cause a schema enforcement error. The best way to avoid this problem is to infer the model schema based on a realistic data sample (training dataset) that includes missing values. Alternatively, you can declare integer columns as doubles (float64) whenever these columns may have missing values. See `Handling Integers With Missing Values <https://www.mlflow.org/docs/latest/models.html#handling-integers-with-missing-values>`_ for more details.\n",
      "  warnings.warn(\n"
     ]
    },
    {
     "name": "stdout",
     "output_type": "stream",
     "text": [
      "🏃 View run Params: {'criterion': 'gini', 'max_depth': 10, 'max_leaf_nodes': 100, 'n_estimators': 200} at: http://localhost:5000/#/experiments/517529337940852463/runs/e82e665cba0f466cac88367b86b0a6fb\n",
      "🧪 View experiment at: http://localhost:5000/#/experiments/517529337940852463\n"
     ]
    },
    {
     "name": "stderr",
     "output_type": "stream",
     "text": [
      "c:\\Users\\RTX\\miniconda3\\envs\\mlops-course\\Lib\\site-packages\\mlflow\\types\\utils.py:452: UserWarning: Hint: Inferred schema contains integer column(s). Integer columns in Python cannot represent missing values. If your input data contains missing values at inference time, it will be encoded as floats and will cause a schema enforcement error. The best way to avoid this problem is to infer the model schema based on a realistic data sample (training dataset) that includes missing values. Alternatively, you can declare integer columns as doubles (float64) whenever these columns may have missing values. See `Handling Integers With Missing Values <https://www.mlflow.org/docs/latest/models.html#handling-integers-with-missing-values>`_ for more details.\n",
      "  warnings.warn(\n",
      "2025/05/10 03:40:44 WARNING mlflow.models.evaluation.evaluators.classifier: According to the evaluation dataset label values, the model type looks like None, but you specified model type 'classifier'. Please verify that you set the `model_type` and `dataset` arguments correctly.\n",
      "2025/05/10 03:40:44 INFO mlflow.models.evaluation.evaluators.classifier: The evaluation dataset is inferred as binary dataset, positive label is 1, negative label is 0.\n",
      "2025/05/10 03:40:44 INFO mlflow.models.evaluation.default_evaluator: Testing metrics on first row...\n",
      "2025/05/10 03:40:44 WARNING mlflow.models.evaluation.evaluators.shap: SHAP or matplotlib package is not installed, so model explainability insights will not be logged.\n",
      "c:\\Users\\RTX\\miniconda3\\envs\\mlops-course\\Lib\\site-packages\\mlflow\\types\\utils.py:452: UserWarning: Hint: Inferred schema contains integer column(s). Integer columns in Python cannot represent missing values. If your input data contains missing values at inference time, it will be encoded as floats and will cause a schema enforcement error. The best way to avoid this problem is to infer the model schema based on a realistic data sample (training dataset) that includes missing values. Alternatively, you can declare integer columns as doubles (float64) whenever these columns may have missing values. See `Handling Integers With Missing Values <https://www.mlflow.org/docs/latest/models.html#handling-integers-with-missing-values>`_ for more details.\n",
      "  warnings.warn(\n"
     ]
    },
    {
     "name": "stdout",
     "output_type": "stream",
     "text": [
      "🏃 View run Params: {'criterion': 'gini', 'max_depth': 10, 'max_leaf_nodes': 100, 'n_estimators': 400} at: http://localhost:5000/#/experiments/517529337940852463/runs/27252f3407af471084eb8e82c131837c\n",
      "🧪 View experiment at: http://localhost:5000/#/experiments/517529337940852463\n"
     ]
    },
    {
     "name": "stderr",
     "output_type": "stream",
     "text": [
      "c:\\Users\\RTX\\miniconda3\\envs\\mlops-course\\Lib\\site-packages\\mlflow\\types\\utils.py:452: UserWarning: Hint: Inferred schema contains integer column(s). Integer columns in Python cannot represent missing values. If your input data contains missing values at inference time, it will be encoded as floats and will cause a schema enforcement error. The best way to avoid this problem is to infer the model schema based on a realistic data sample (training dataset) that includes missing values. Alternatively, you can declare integer columns as doubles (float64) whenever these columns may have missing values. See `Handling Integers With Missing Values <https://www.mlflow.org/docs/latest/models.html#handling-integers-with-missing-values>`_ for more details.\n",
      "  warnings.warn(\n",
      "2025/05/10 03:40:50 WARNING mlflow.models.evaluation.evaluators.classifier: According to the evaluation dataset label values, the model type looks like None, but you specified model type 'classifier'. Please verify that you set the `model_type` and `dataset` arguments correctly.\n",
      "2025/05/10 03:40:50 INFO mlflow.models.evaluation.evaluators.classifier: The evaluation dataset is inferred as binary dataset, positive label is 1, negative label is 0.\n",
      "2025/05/10 03:40:50 INFO mlflow.models.evaluation.default_evaluator: Testing metrics on first row...\n",
      "2025/05/10 03:40:50 WARNING mlflow.models.evaluation.evaluators.shap: SHAP or matplotlib package is not installed, so model explainability insights will not be logged.\n",
      "c:\\Users\\RTX\\miniconda3\\envs\\mlops-course\\Lib\\site-packages\\mlflow\\types\\utils.py:452: UserWarning: Hint: Inferred schema contains integer column(s). Integer columns in Python cannot represent missing values. If your input data contains missing values at inference time, it will be encoded as floats and will cause a schema enforcement error. The best way to avoid this problem is to infer the model schema based on a realistic data sample (training dataset) that includes missing values. Alternatively, you can declare integer columns as doubles (float64) whenever these columns may have missing values. See `Handling Integers With Missing Values <https://www.mlflow.org/docs/latest/models.html#handling-integers-with-missing-values>`_ for more details.\n",
      "  warnings.warn(\n"
     ]
    },
    {
     "name": "stdout",
     "output_type": "stream",
     "text": [
      "🏃 View run Params: {'criterion': 'gini', 'max_depth': 10, 'max_leaf_nodes': 100, 'n_estimators': 700} at: http://localhost:5000/#/experiments/517529337940852463/runs/333e82bcfa9845b7a39cc1d4b391e7ae\n",
      "🧪 View experiment at: http://localhost:5000/#/experiments/517529337940852463\n"
     ]
    },
    {
     "name": "stderr",
     "output_type": "stream",
     "text": [
      "c:\\Users\\RTX\\miniconda3\\envs\\mlops-course\\Lib\\site-packages\\mlflow\\types\\utils.py:452: UserWarning: Hint: Inferred schema contains integer column(s). Integer columns in Python cannot represent missing values. If your input data contains missing values at inference time, it will be encoded as floats and will cause a schema enforcement error. The best way to avoid this problem is to infer the model schema based on a realistic data sample (training dataset) that includes missing values. Alternatively, you can declare integer columns as doubles (float64) whenever these columns may have missing values. See `Handling Integers With Missing Values <https://www.mlflow.org/docs/latest/models.html#handling-integers-with-missing-values>`_ for more details.\n",
      "  warnings.warn(\n",
      "2025/05/10 03:40:56 WARNING mlflow.models.evaluation.evaluators.classifier: According to the evaluation dataset label values, the model type looks like None, but you specified model type 'classifier'. Please verify that you set the `model_type` and `dataset` arguments correctly.\n",
      "2025/05/10 03:40:56 INFO mlflow.models.evaluation.evaluators.classifier: The evaluation dataset is inferred as binary dataset, positive label is 1, negative label is 0.\n",
      "2025/05/10 03:40:56 INFO mlflow.models.evaluation.default_evaluator: Testing metrics on first row...\n",
      "2025/05/10 03:40:56 WARNING mlflow.models.evaluation.evaluators.shap: SHAP or matplotlib package is not installed, so model explainability insights will not be logged.\n",
      "c:\\Users\\RTX\\miniconda3\\envs\\mlops-course\\Lib\\site-packages\\mlflow\\types\\utils.py:452: UserWarning: Hint: Inferred schema contains integer column(s). Integer columns in Python cannot represent missing values. If your input data contains missing values at inference time, it will be encoded as floats and will cause a schema enforcement error. The best way to avoid this problem is to infer the model schema based on a realistic data sample (training dataset) that includes missing values. Alternatively, you can declare integer columns as doubles (float64) whenever these columns may have missing values. See `Handling Integers With Missing Values <https://www.mlflow.org/docs/latest/models.html#handling-integers-with-missing-values>`_ for more details.\n",
      "  warnings.warn(\n"
     ]
    },
    {
     "name": "stdout",
     "output_type": "stream",
     "text": [
      "🏃 View run Params: {'criterion': 'gini', 'max_depth': 20, 'max_leaf_nodes': 50, 'n_estimators': 200} at: http://localhost:5000/#/experiments/517529337940852463/runs/f9d46112ba6d491a866a758cde30b6e6\n",
      "🧪 View experiment at: http://localhost:5000/#/experiments/517529337940852463\n"
     ]
    },
    {
     "name": "stderr",
     "output_type": "stream",
     "text": [
      "c:\\Users\\RTX\\miniconda3\\envs\\mlops-course\\Lib\\site-packages\\mlflow\\types\\utils.py:452: UserWarning: Hint: Inferred schema contains integer column(s). Integer columns in Python cannot represent missing values. If your input data contains missing values at inference time, it will be encoded as floats and will cause a schema enforcement error. The best way to avoid this problem is to infer the model schema based on a realistic data sample (training dataset) that includes missing values. Alternatively, you can declare integer columns as doubles (float64) whenever these columns may have missing values. See `Handling Integers With Missing Values <https://www.mlflow.org/docs/latest/models.html#handling-integers-with-missing-values>`_ for more details.\n",
      "  warnings.warn(\n",
      "2025/05/10 03:41:02 WARNING mlflow.models.evaluation.evaluators.classifier: According to the evaluation dataset label values, the model type looks like None, but you specified model type 'classifier'. Please verify that you set the `model_type` and `dataset` arguments correctly.\n",
      "2025/05/10 03:41:02 INFO mlflow.models.evaluation.evaluators.classifier: The evaluation dataset is inferred as binary dataset, positive label is 1, negative label is 0.\n",
      "2025/05/10 03:41:02 INFO mlflow.models.evaluation.default_evaluator: Testing metrics on first row...\n",
      "2025/05/10 03:41:02 WARNING mlflow.models.evaluation.evaluators.shap: SHAP or matplotlib package is not installed, so model explainability insights will not be logged.\n",
      "c:\\Users\\RTX\\miniconda3\\envs\\mlops-course\\Lib\\site-packages\\mlflow\\types\\utils.py:452: UserWarning: Hint: Inferred schema contains integer column(s). Integer columns in Python cannot represent missing values. If your input data contains missing values at inference time, it will be encoded as floats and will cause a schema enforcement error. The best way to avoid this problem is to infer the model schema based on a realistic data sample (training dataset) that includes missing values. Alternatively, you can declare integer columns as doubles (float64) whenever these columns may have missing values. See `Handling Integers With Missing Values <https://www.mlflow.org/docs/latest/models.html#handling-integers-with-missing-values>`_ for more details.\n",
      "  warnings.warn(\n"
     ]
    },
    {
     "name": "stdout",
     "output_type": "stream",
     "text": [
      "🏃 View run Params: {'criterion': 'gini', 'max_depth': 20, 'max_leaf_nodes': 50, 'n_estimators': 400} at: http://localhost:5000/#/experiments/517529337940852463/runs/80efac3a153e4969a995778e3f9f5824\n",
      "🧪 View experiment at: http://localhost:5000/#/experiments/517529337940852463\n"
     ]
    },
    {
     "name": "stderr",
     "output_type": "stream",
     "text": [
      "c:\\Users\\RTX\\miniconda3\\envs\\mlops-course\\Lib\\site-packages\\mlflow\\types\\utils.py:452: UserWarning: Hint: Inferred schema contains integer column(s). Integer columns in Python cannot represent missing values. If your input data contains missing values at inference time, it will be encoded as floats and will cause a schema enforcement error. The best way to avoid this problem is to infer the model schema based on a realistic data sample (training dataset) that includes missing values. Alternatively, you can declare integer columns as doubles (float64) whenever these columns may have missing values. See `Handling Integers With Missing Values <https://www.mlflow.org/docs/latest/models.html#handling-integers-with-missing-values>`_ for more details.\n",
      "  warnings.warn(\n",
      "2025/05/10 03:41:07 WARNING mlflow.models.evaluation.evaluators.classifier: According to the evaluation dataset label values, the model type looks like None, but you specified model type 'classifier'. Please verify that you set the `model_type` and `dataset` arguments correctly.\n",
      "2025/05/10 03:41:07 INFO mlflow.models.evaluation.evaluators.classifier: The evaluation dataset is inferred as binary dataset, positive label is 1, negative label is 0.\n",
      "2025/05/10 03:41:07 INFO mlflow.models.evaluation.default_evaluator: Testing metrics on first row...\n",
      "2025/05/10 03:41:07 WARNING mlflow.models.evaluation.evaluators.shap: SHAP or matplotlib package is not installed, so model explainability insights will not be logged.\n",
      "c:\\Users\\RTX\\miniconda3\\envs\\mlops-course\\Lib\\site-packages\\mlflow\\types\\utils.py:452: UserWarning: Hint: Inferred schema contains integer column(s). Integer columns in Python cannot represent missing values. If your input data contains missing values at inference time, it will be encoded as floats and will cause a schema enforcement error. The best way to avoid this problem is to infer the model schema based on a realistic data sample (training dataset) that includes missing values. Alternatively, you can declare integer columns as doubles (float64) whenever these columns may have missing values. See `Handling Integers With Missing Values <https://www.mlflow.org/docs/latest/models.html#handling-integers-with-missing-values>`_ for more details.\n",
      "  warnings.warn(\n"
     ]
    },
    {
     "name": "stdout",
     "output_type": "stream",
     "text": [
      "🏃 View run Params: {'criterion': 'gini', 'max_depth': 20, 'max_leaf_nodes': 50, 'n_estimators': 700} at: http://localhost:5000/#/experiments/517529337940852463/runs/65ff7804c496499689081732a62aa414\n",
      "🧪 View experiment at: http://localhost:5000/#/experiments/517529337940852463\n"
     ]
    },
    {
     "name": "stderr",
     "output_type": "stream",
     "text": [
      "c:\\Users\\RTX\\miniconda3\\envs\\mlops-course\\Lib\\site-packages\\mlflow\\types\\utils.py:452: UserWarning: Hint: Inferred schema contains integer column(s). Integer columns in Python cannot represent missing values. If your input data contains missing values at inference time, it will be encoded as floats and will cause a schema enforcement error. The best way to avoid this problem is to infer the model schema based on a realistic data sample (training dataset) that includes missing values. Alternatively, you can declare integer columns as doubles (float64) whenever these columns may have missing values. See `Handling Integers With Missing Values <https://www.mlflow.org/docs/latest/models.html#handling-integers-with-missing-values>`_ for more details.\n",
      "  warnings.warn(\n",
      "2025/05/10 03:41:12 WARNING mlflow.models.evaluation.evaluators.classifier: According to the evaluation dataset label values, the model type looks like None, but you specified model type 'classifier'. Please verify that you set the `model_type` and `dataset` arguments correctly.\n",
      "2025/05/10 03:41:12 INFO mlflow.models.evaluation.evaluators.classifier: The evaluation dataset is inferred as binary dataset, positive label is 1, negative label is 0.\n",
      "2025/05/10 03:41:12 INFO mlflow.models.evaluation.default_evaluator: Testing metrics on first row...\n",
      "2025/05/10 03:41:13 WARNING mlflow.models.evaluation.evaluators.shap: SHAP or matplotlib package is not installed, so model explainability insights will not be logged.\n",
      "c:\\Users\\RTX\\miniconda3\\envs\\mlops-course\\Lib\\site-packages\\mlflow\\types\\utils.py:452: UserWarning: Hint: Inferred schema contains integer column(s). Integer columns in Python cannot represent missing values. If your input data contains missing values at inference time, it will be encoded as floats and will cause a schema enforcement error. The best way to avoid this problem is to infer the model schema based on a realistic data sample (training dataset) that includes missing values. Alternatively, you can declare integer columns as doubles (float64) whenever these columns may have missing values. See `Handling Integers With Missing Values <https://www.mlflow.org/docs/latest/models.html#handling-integers-with-missing-values>`_ for more details.\n",
      "  warnings.warn(\n"
     ]
    },
    {
     "name": "stdout",
     "output_type": "stream",
     "text": [
      "🏃 View run Params: {'criterion': 'gini', 'max_depth': 20, 'max_leaf_nodes': 100, 'n_estimators': 200} at: http://localhost:5000/#/experiments/517529337940852463/runs/ad865e7501bb40b8a941fc2664dd8fc7\n",
      "🧪 View experiment at: http://localhost:5000/#/experiments/517529337940852463\n"
     ]
    },
    {
     "name": "stderr",
     "output_type": "stream",
     "text": [
      "c:\\Users\\RTX\\miniconda3\\envs\\mlops-course\\Lib\\site-packages\\mlflow\\types\\utils.py:452: UserWarning: Hint: Inferred schema contains integer column(s). Integer columns in Python cannot represent missing values. If your input data contains missing values at inference time, it will be encoded as floats and will cause a schema enforcement error. The best way to avoid this problem is to infer the model schema based on a realistic data sample (training dataset) that includes missing values. Alternatively, you can declare integer columns as doubles (float64) whenever these columns may have missing values. See `Handling Integers With Missing Values <https://www.mlflow.org/docs/latest/models.html#handling-integers-with-missing-values>`_ for more details.\n",
      "  warnings.warn(\n",
      "2025/05/10 03:41:18 WARNING mlflow.models.evaluation.evaluators.classifier: According to the evaluation dataset label values, the model type looks like None, but you specified model type 'classifier'. Please verify that you set the `model_type` and `dataset` arguments correctly.\n",
      "2025/05/10 03:41:18 INFO mlflow.models.evaluation.evaluators.classifier: The evaluation dataset is inferred as binary dataset, positive label is 1, negative label is 0.\n",
      "2025/05/10 03:41:18 INFO mlflow.models.evaluation.default_evaluator: Testing metrics on first row...\n",
      "2025/05/10 03:41:18 WARNING mlflow.models.evaluation.evaluators.shap: SHAP or matplotlib package is not installed, so model explainability insights will not be logged.\n",
      "c:\\Users\\RTX\\miniconda3\\envs\\mlops-course\\Lib\\site-packages\\mlflow\\types\\utils.py:452: UserWarning: Hint: Inferred schema contains integer column(s). Integer columns in Python cannot represent missing values. If your input data contains missing values at inference time, it will be encoded as floats and will cause a schema enforcement error. The best way to avoid this problem is to infer the model schema based on a realistic data sample (training dataset) that includes missing values. Alternatively, you can declare integer columns as doubles (float64) whenever these columns may have missing values. See `Handling Integers With Missing Values <https://www.mlflow.org/docs/latest/models.html#handling-integers-with-missing-values>`_ for more details.\n",
      "  warnings.warn(\n"
     ]
    },
    {
     "name": "stdout",
     "output_type": "stream",
     "text": [
      "🏃 View run Params: {'criterion': 'gini', 'max_depth': 20, 'max_leaf_nodes': 100, 'n_estimators': 400} at: http://localhost:5000/#/experiments/517529337940852463/runs/350ef7cfc915417f8588db878401d090\n",
      "🧪 View experiment at: http://localhost:5000/#/experiments/517529337940852463\n"
     ]
    },
    {
     "name": "stderr",
     "output_type": "stream",
     "text": [
      "c:\\Users\\RTX\\miniconda3\\envs\\mlops-course\\Lib\\site-packages\\mlflow\\types\\utils.py:452: UserWarning: Hint: Inferred schema contains integer column(s). Integer columns in Python cannot represent missing values. If your input data contains missing values at inference time, it will be encoded as floats and will cause a schema enforcement error. The best way to avoid this problem is to infer the model schema based on a realistic data sample (training dataset) that includes missing values. Alternatively, you can declare integer columns as doubles (float64) whenever these columns may have missing values. See `Handling Integers With Missing Values <https://www.mlflow.org/docs/latest/models.html#handling-integers-with-missing-values>`_ for more details.\n",
      "  warnings.warn(\n",
      "2025/05/10 03:41:23 WARNING mlflow.models.evaluation.evaluators.classifier: According to the evaluation dataset label values, the model type looks like None, but you specified model type 'classifier'. Please verify that you set the `model_type` and `dataset` arguments correctly.\n",
      "2025/05/10 03:41:23 INFO mlflow.models.evaluation.evaluators.classifier: The evaluation dataset is inferred as binary dataset, positive label is 1, negative label is 0.\n",
      "2025/05/10 03:41:23 INFO mlflow.models.evaluation.default_evaluator: Testing metrics on first row...\n",
      "2025/05/10 03:41:23 WARNING mlflow.models.evaluation.evaluators.shap: SHAP or matplotlib package is not installed, so model explainability insights will not be logged.\n",
      "c:\\Users\\RTX\\miniconda3\\envs\\mlops-course\\Lib\\site-packages\\mlflow\\types\\utils.py:452: UserWarning: Hint: Inferred schema contains integer column(s). Integer columns in Python cannot represent missing values. If your input data contains missing values at inference time, it will be encoded as floats and will cause a schema enforcement error. The best way to avoid this problem is to infer the model schema based on a realistic data sample (training dataset) that includes missing values. Alternatively, you can declare integer columns as doubles (float64) whenever these columns may have missing values. See `Handling Integers With Missing Values <https://www.mlflow.org/docs/latest/models.html#handling-integers-with-missing-values>`_ for more details.\n",
      "  warnings.warn(\n"
     ]
    },
    {
     "name": "stdout",
     "output_type": "stream",
     "text": [
      "🏃 View run Params: {'criterion': 'gini', 'max_depth': 20, 'max_leaf_nodes': 100, 'n_estimators': 700} at: http://localhost:5000/#/experiments/517529337940852463/runs/706dc017d4f94989a752967ca3bb4443\n",
      "🧪 View experiment at: http://localhost:5000/#/experiments/517529337940852463\n"
     ]
    },
    {
     "name": "stderr",
     "output_type": "stream",
     "text": [
      "c:\\Users\\RTX\\miniconda3\\envs\\mlops-course\\Lib\\site-packages\\mlflow\\types\\utils.py:452: UserWarning: Hint: Inferred schema contains integer column(s). Integer columns in Python cannot represent missing values. If your input data contains missing values at inference time, it will be encoded as floats and will cause a schema enforcement error. The best way to avoid this problem is to infer the model schema based on a realistic data sample (training dataset) that includes missing values. Alternatively, you can declare integer columns as doubles (float64) whenever these columns may have missing values. See `Handling Integers With Missing Values <https://www.mlflow.org/docs/latest/models.html#handling-integers-with-missing-values>`_ for more details.\n",
      "  warnings.warn(\n",
      "2025/05/10 03:41:28 WARNING mlflow.models.evaluation.evaluators.classifier: According to the evaluation dataset label values, the model type looks like None, but you specified model type 'classifier'. Please verify that you set the `model_type` and `dataset` arguments correctly.\n",
      "2025/05/10 03:41:28 INFO mlflow.models.evaluation.evaluators.classifier: The evaluation dataset is inferred as binary dataset, positive label is 1, negative label is 0.\n",
      "2025/05/10 03:41:28 INFO mlflow.models.evaluation.default_evaluator: Testing metrics on first row...\n",
      "2025/05/10 03:41:29 WARNING mlflow.models.evaluation.evaluators.shap: SHAP or matplotlib package is not installed, so model explainability insights will not be logged.\n",
      "c:\\Users\\RTX\\miniconda3\\envs\\mlops-course\\Lib\\site-packages\\mlflow\\types\\utils.py:452: UserWarning: Hint: Inferred schema contains integer column(s). Integer columns in Python cannot represent missing values. If your input data contains missing values at inference time, it will be encoded as floats and will cause a schema enforcement error. The best way to avoid this problem is to infer the model schema based on a realistic data sample (training dataset) that includes missing values. Alternatively, you can declare integer columns as doubles (float64) whenever these columns may have missing values. See `Handling Integers With Missing Values <https://www.mlflow.org/docs/latest/models.html#handling-integers-with-missing-values>`_ for more details.\n",
      "  warnings.warn(\n"
     ]
    },
    {
     "name": "stdout",
     "output_type": "stream",
     "text": [
      "🏃 View run Params: {'criterion': 'gini', 'max_depth': 30, 'max_leaf_nodes': 50, 'n_estimators': 200} at: http://localhost:5000/#/experiments/517529337940852463/runs/4357bc33337c4b64ad041a6025ce98ba\n",
      "🧪 View experiment at: http://localhost:5000/#/experiments/517529337940852463\n"
     ]
    },
    {
     "name": "stderr",
     "output_type": "stream",
     "text": [
      "c:\\Users\\RTX\\miniconda3\\envs\\mlops-course\\Lib\\site-packages\\mlflow\\types\\utils.py:452: UserWarning: Hint: Inferred schema contains integer column(s). Integer columns in Python cannot represent missing values. If your input data contains missing values at inference time, it will be encoded as floats and will cause a schema enforcement error. The best way to avoid this problem is to infer the model schema based on a realistic data sample (training dataset) that includes missing values. Alternatively, you can declare integer columns as doubles (float64) whenever these columns may have missing values. See `Handling Integers With Missing Values <https://www.mlflow.org/docs/latest/models.html#handling-integers-with-missing-values>`_ for more details.\n",
      "  warnings.warn(\n",
      "2025/05/10 03:41:34 WARNING mlflow.models.evaluation.evaluators.classifier: According to the evaluation dataset label values, the model type looks like None, but you specified model type 'classifier'. Please verify that you set the `model_type` and `dataset` arguments correctly.\n",
      "2025/05/10 03:41:34 INFO mlflow.models.evaluation.evaluators.classifier: The evaluation dataset is inferred as binary dataset, positive label is 1, negative label is 0.\n",
      "2025/05/10 03:41:34 INFO mlflow.models.evaluation.default_evaluator: Testing metrics on first row...\n",
      "2025/05/10 03:41:34 WARNING mlflow.models.evaluation.evaluators.shap: SHAP or matplotlib package is not installed, so model explainability insights will not be logged.\n",
      "c:\\Users\\RTX\\miniconda3\\envs\\mlops-course\\Lib\\site-packages\\mlflow\\types\\utils.py:452: UserWarning: Hint: Inferred schema contains integer column(s). Integer columns in Python cannot represent missing values. If your input data contains missing values at inference time, it will be encoded as floats and will cause a schema enforcement error. The best way to avoid this problem is to infer the model schema based on a realistic data sample (training dataset) that includes missing values. Alternatively, you can declare integer columns as doubles (float64) whenever these columns may have missing values. See `Handling Integers With Missing Values <https://www.mlflow.org/docs/latest/models.html#handling-integers-with-missing-values>`_ for more details.\n",
      "  warnings.warn(\n"
     ]
    },
    {
     "name": "stdout",
     "output_type": "stream",
     "text": [
      "🏃 View run Params: {'criterion': 'gini', 'max_depth': 30, 'max_leaf_nodes': 50, 'n_estimators': 400} at: http://localhost:5000/#/experiments/517529337940852463/runs/c8cf6fcd70e148289d39475b51763d48\n",
      "🧪 View experiment at: http://localhost:5000/#/experiments/517529337940852463\n"
     ]
    },
    {
     "name": "stderr",
     "output_type": "stream",
     "text": [
      "c:\\Users\\RTX\\miniconda3\\envs\\mlops-course\\Lib\\site-packages\\mlflow\\types\\utils.py:452: UserWarning: Hint: Inferred schema contains integer column(s). Integer columns in Python cannot represent missing values. If your input data contains missing values at inference time, it will be encoded as floats and will cause a schema enforcement error. The best way to avoid this problem is to infer the model schema based on a realistic data sample (training dataset) that includes missing values. Alternatively, you can declare integer columns as doubles (float64) whenever these columns may have missing values. See `Handling Integers With Missing Values <https://www.mlflow.org/docs/latest/models.html#handling-integers-with-missing-values>`_ for more details.\n",
      "  warnings.warn(\n",
      "2025/05/10 03:41:40 WARNING mlflow.models.evaluation.evaluators.classifier: According to the evaluation dataset label values, the model type looks like None, but you specified model type 'classifier'. Please verify that you set the `model_type` and `dataset` arguments correctly.\n",
      "2025/05/10 03:41:40 INFO mlflow.models.evaluation.evaluators.classifier: The evaluation dataset is inferred as binary dataset, positive label is 1, negative label is 0.\n",
      "2025/05/10 03:41:40 INFO mlflow.models.evaluation.default_evaluator: Testing metrics on first row...\n",
      "2025/05/10 03:41:40 WARNING mlflow.models.evaluation.evaluators.shap: SHAP or matplotlib package is not installed, so model explainability insights will not be logged.\n",
      "c:\\Users\\RTX\\miniconda3\\envs\\mlops-course\\Lib\\site-packages\\mlflow\\types\\utils.py:452: UserWarning: Hint: Inferred schema contains integer column(s). Integer columns in Python cannot represent missing values. If your input data contains missing values at inference time, it will be encoded as floats and will cause a schema enforcement error. The best way to avoid this problem is to infer the model schema based on a realistic data sample (training dataset) that includes missing values. Alternatively, you can declare integer columns as doubles (float64) whenever these columns may have missing values. See `Handling Integers With Missing Values <https://www.mlflow.org/docs/latest/models.html#handling-integers-with-missing-values>`_ for more details.\n",
      "  warnings.warn(\n"
     ]
    },
    {
     "name": "stdout",
     "output_type": "stream",
     "text": [
      "🏃 View run Params: {'criterion': 'gini', 'max_depth': 30, 'max_leaf_nodes': 50, 'n_estimators': 700} at: http://localhost:5000/#/experiments/517529337940852463/runs/a7543f6de9984f298c07357126b1b26b\n",
      "🧪 View experiment at: http://localhost:5000/#/experiments/517529337940852463\n"
     ]
    },
    {
     "name": "stderr",
     "output_type": "stream",
     "text": [
      "c:\\Users\\RTX\\miniconda3\\envs\\mlops-course\\Lib\\site-packages\\mlflow\\types\\utils.py:452: UserWarning: Hint: Inferred schema contains integer column(s). Integer columns in Python cannot represent missing values. If your input data contains missing values at inference time, it will be encoded as floats and will cause a schema enforcement error. The best way to avoid this problem is to infer the model schema based on a realistic data sample (training dataset) that includes missing values. Alternatively, you can declare integer columns as doubles (float64) whenever these columns may have missing values. See `Handling Integers With Missing Values <https://www.mlflow.org/docs/latest/models.html#handling-integers-with-missing-values>`_ for more details.\n",
      "  warnings.warn(\n",
      "2025/05/10 03:41:46 WARNING mlflow.models.evaluation.evaluators.classifier: According to the evaluation dataset label values, the model type looks like None, but you specified model type 'classifier'. Please verify that you set the `model_type` and `dataset` arguments correctly.\n",
      "2025/05/10 03:41:46 INFO mlflow.models.evaluation.evaluators.classifier: The evaluation dataset is inferred as binary dataset, positive label is 1, negative label is 0.\n",
      "2025/05/10 03:41:46 INFO mlflow.models.evaluation.default_evaluator: Testing metrics on first row...\n",
      "2025/05/10 03:41:47 WARNING mlflow.models.evaluation.evaluators.shap: SHAP or matplotlib package is not installed, so model explainability insights will not be logged.\n"
     ]
    },
    {
     "name": "stdout",
     "output_type": "stream",
     "text": [
      "🏃 View run Params: {'criterion': 'gini', 'max_depth': 30, 'max_leaf_nodes': 100, 'n_estimators': 200} at: http://localhost:5000/#/experiments/517529337940852463/runs/ca628ede0f894643b4cd9b0d4090aea9\n",
      "🧪 View experiment at: http://localhost:5000/#/experiments/517529337940852463\n"
     ]
    },
    {
     "name": "stderr",
     "output_type": "stream",
     "text": [
      "c:\\Users\\RTX\\miniconda3\\envs\\mlops-course\\Lib\\site-packages\\mlflow\\types\\utils.py:452: UserWarning: Hint: Inferred schema contains integer column(s). Integer columns in Python cannot represent missing values. If your input data contains missing values at inference time, it will be encoded as floats and will cause a schema enforcement error. The best way to avoid this problem is to infer the model schema based on a realistic data sample (training dataset) that includes missing values. Alternatively, you can declare integer columns as doubles (float64) whenever these columns may have missing values. See `Handling Integers With Missing Values <https://www.mlflow.org/docs/latest/models.html#handling-integers-with-missing-values>`_ for more details.\n",
      "  warnings.warn(\n",
      "c:\\Users\\RTX\\miniconda3\\envs\\mlops-course\\Lib\\site-packages\\mlflow\\types\\utils.py:452: UserWarning: Hint: Inferred schema contains integer column(s). Integer columns in Python cannot represent missing values. If your input data contains missing values at inference time, it will be encoded as floats and will cause a schema enforcement error. The best way to avoid this problem is to infer the model schema based on a realistic data sample (training dataset) that includes missing values. Alternatively, you can declare integer columns as doubles (float64) whenever these columns may have missing values. See `Handling Integers With Missing Values <https://www.mlflow.org/docs/latest/models.html#handling-integers-with-missing-values>`_ for more details.\n",
      "  warnings.warn(\n",
      "2025/05/10 03:41:53 WARNING mlflow.models.evaluation.evaluators.classifier: According to the evaluation dataset label values, the model type looks like None, but you specified model type 'classifier'. Please verify that you set the `model_type` and `dataset` arguments correctly.\n",
      "2025/05/10 03:41:53 INFO mlflow.models.evaluation.evaluators.classifier: The evaluation dataset is inferred as binary dataset, positive label is 1, negative label is 0.\n",
      "2025/05/10 03:41:53 INFO mlflow.models.evaluation.default_evaluator: Testing metrics on first row...\n",
      "2025/05/10 03:41:53 WARNING mlflow.models.evaluation.evaluators.shap: SHAP or matplotlib package is not installed, so model explainability insights will not be logged.\n",
      "c:\\Users\\RTX\\miniconda3\\envs\\mlops-course\\Lib\\site-packages\\mlflow\\types\\utils.py:452: UserWarning: Hint: Inferred schema contains integer column(s). Integer columns in Python cannot represent missing values. If your input data contains missing values at inference time, it will be encoded as floats and will cause a schema enforcement error. The best way to avoid this problem is to infer the model schema based on a realistic data sample (training dataset) that includes missing values. Alternatively, you can declare integer columns as doubles (float64) whenever these columns may have missing values. See `Handling Integers With Missing Values <https://www.mlflow.org/docs/latest/models.html#handling-integers-with-missing-values>`_ for more details.\n",
      "  warnings.warn(\n"
     ]
    },
    {
     "name": "stdout",
     "output_type": "stream",
     "text": [
      "🏃 View run Params: {'criterion': 'gini', 'max_depth': 30, 'max_leaf_nodes': 100, 'n_estimators': 400} at: http://localhost:5000/#/experiments/517529337940852463/runs/b47df6a9ac5f4aa8b785be3fdeb8f42b\n",
      "🧪 View experiment at: http://localhost:5000/#/experiments/517529337940852463\n"
     ]
    },
    {
     "name": "stderr",
     "output_type": "stream",
     "text": [
      "c:\\Users\\RTX\\miniconda3\\envs\\mlops-course\\Lib\\site-packages\\mlflow\\types\\utils.py:452: UserWarning: Hint: Inferred schema contains integer column(s). Integer columns in Python cannot represent missing values. If your input data contains missing values at inference time, it will be encoded as floats and will cause a schema enforcement error. The best way to avoid this problem is to infer the model schema based on a realistic data sample (training dataset) that includes missing values. Alternatively, you can declare integer columns as doubles (float64) whenever these columns may have missing values. See `Handling Integers With Missing Values <https://www.mlflow.org/docs/latest/models.html#handling-integers-with-missing-values>`_ for more details.\n",
      "  warnings.warn(\n",
      "2025/05/10 03:41:59 WARNING mlflow.models.evaluation.evaluators.classifier: According to the evaluation dataset label values, the model type looks like None, but you specified model type 'classifier'. Please verify that you set the `model_type` and `dataset` arguments correctly.\n",
      "2025/05/10 03:41:59 INFO mlflow.models.evaluation.evaluators.classifier: The evaluation dataset is inferred as binary dataset, positive label is 1, negative label is 0.\n",
      "2025/05/10 03:41:59 INFO mlflow.models.evaluation.default_evaluator: Testing metrics on first row...\n",
      "2025/05/10 03:41:59 WARNING mlflow.models.evaluation.evaluators.shap: SHAP or matplotlib package is not installed, so model explainability insights will not be logged.\n",
      "c:\\Users\\RTX\\miniconda3\\envs\\mlops-course\\Lib\\site-packages\\mlflow\\types\\utils.py:452: UserWarning: Hint: Inferred schema contains integer column(s). Integer columns in Python cannot represent missing values. If your input data contains missing values at inference time, it will be encoded as floats and will cause a schema enforcement error. The best way to avoid this problem is to infer the model schema based on a realistic data sample (training dataset) that includes missing values. Alternatively, you can declare integer columns as doubles (float64) whenever these columns may have missing values. See `Handling Integers With Missing Values <https://www.mlflow.org/docs/latest/models.html#handling-integers-with-missing-values>`_ for more details.\n",
      "  warnings.warn(\n"
     ]
    },
    {
     "name": "stdout",
     "output_type": "stream",
     "text": [
      "🏃 View run Params: {'criterion': 'gini', 'max_depth': 30, 'max_leaf_nodes': 100, 'n_estimators': 700} at: http://localhost:5000/#/experiments/517529337940852463/runs/1ace843552a04297ac2204dd563f8cd2\n",
      "🧪 View experiment at: http://localhost:5000/#/experiments/517529337940852463\n"
     ]
    },
    {
     "name": "stderr",
     "output_type": "stream",
     "text": [
      "c:\\Users\\RTX\\miniconda3\\envs\\mlops-course\\Lib\\site-packages\\mlflow\\types\\utils.py:452: UserWarning: Hint: Inferred schema contains integer column(s). Integer columns in Python cannot represent missing values. If your input data contains missing values at inference time, it will be encoded as floats and will cause a schema enforcement error. The best way to avoid this problem is to infer the model schema based on a realistic data sample (training dataset) that includes missing values. Alternatively, you can declare integer columns as doubles (float64) whenever these columns may have missing values. See `Handling Integers With Missing Values <https://www.mlflow.org/docs/latest/models.html#handling-integers-with-missing-values>`_ for more details.\n",
      "  warnings.warn(\n",
      "2025/05/10 03:42:05 WARNING mlflow.models.evaluation.evaluators.classifier: According to the evaluation dataset label values, the model type looks like None, but you specified model type 'classifier'. Please verify that you set the `model_type` and `dataset` arguments correctly.\n",
      "2025/05/10 03:42:05 INFO mlflow.models.evaluation.evaluators.classifier: The evaluation dataset is inferred as binary dataset, positive label is 1, negative label is 0.\n",
      "2025/05/10 03:42:05 INFO mlflow.models.evaluation.default_evaluator: Testing metrics on first row...\n",
      "2025/05/10 03:42:06 WARNING mlflow.models.evaluation.evaluators.shap: SHAP or matplotlib package is not installed, so model explainability insights will not be logged.\n",
      "c:\\Users\\RTX\\miniconda3\\envs\\mlops-course\\Lib\\site-packages\\mlflow\\types\\utils.py:452: UserWarning: Hint: Inferred schema contains integer column(s). Integer columns in Python cannot represent missing values. If your input data contains missing values at inference time, it will be encoded as floats and will cause a schema enforcement error. The best way to avoid this problem is to infer the model schema based on a realistic data sample (training dataset) that includes missing values. Alternatively, you can declare integer columns as doubles (float64) whenever these columns may have missing values. See `Handling Integers With Missing Values <https://www.mlflow.org/docs/latest/models.html#handling-integers-with-missing-values>`_ for more details.\n",
      "  warnings.warn(\n"
     ]
    },
    {
     "name": "stdout",
     "output_type": "stream",
     "text": [
      "🏃 View run Params: {'criterion': 'entropy', 'max_depth': 10, 'max_leaf_nodes': 50, 'n_estimators': 200} at: http://localhost:5000/#/experiments/517529337940852463/runs/f0c152dec0b0452d89cb98f38b9658c1\n",
      "🧪 View experiment at: http://localhost:5000/#/experiments/517529337940852463\n"
     ]
    },
    {
     "name": "stderr",
     "output_type": "stream",
     "text": [
      "c:\\Users\\RTX\\miniconda3\\envs\\mlops-course\\Lib\\site-packages\\mlflow\\types\\utils.py:452: UserWarning: Hint: Inferred schema contains integer column(s). Integer columns in Python cannot represent missing values. If your input data contains missing values at inference time, it will be encoded as floats and will cause a schema enforcement error. The best way to avoid this problem is to infer the model schema based on a realistic data sample (training dataset) that includes missing values. Alternatively, you can declare integer columns as doubles (float64) whenever these columns may have missing values. See `Handling Integers With Missing Values <https://www.mlflow.org/docs/latest/models.html#handling-integers-with-missing-values>`_ for more details.\n",
      "  warnings.warn(\n",
      "2025/05/10 03:42:11 WARNING mlflow.models.evaluation.evaluators.classifier: According to the evaluation dataset label values, the model type looks like None, but you specified model type 'classifier'. Please verify that you set the `model_type` and `dataset` arguments correctly.\n",
      "2025/05/10 03:42:11 INFO mlflow.models.evaluation.evaluators.classifier: The evaluation dataset is inferred as binary dataset, positive label is 1, negative label is 0.\n",
      "2025/05/10 03:42:11 INFO mlflow.models.evaluation.default_evaluator: Testing metrics on first row...\n",
      "2025/05/10 03:42:11 WARNING mlflow.models.evaluation.evaluators.shap: SHAP or matplotlib package is not installed, so model explainability insights will not be logged.\n",
      "c:\\Users\\RTX\\miniconda3\\envs\\mlops-course\\Lib\\site-packages\\mlflow\\types\\utils.py:452: UserWarning: Hint: Inferred schema contains integer column(s). Integer columns in Python cannot represent missing values. If your input data contains missing values at inference time, it will be encoded as floats and will cause a schema enforcement error. The best way to avoid this problem is to infer the model schema based on a realistic data sample (training dataset) that includes missing values. Alternatively, you can declare integer columns as doubles (float64) whenever these columns may have missing values. See `Handling Integers With Missing Values <https://www.mlflow.org/docs/latest/models.html#handling-integers-with-missing-values>`_ for more details.\n",
      "  warnings.warn(\n"
     ]
    },
    {
     "name": "stdout",
     "output_type": "stream",
     "text": [
      "🏃 View run Params: {'criterion': 'entropy', 'max_depth': 10, 'max_leaf_nodes': 50, 'n_estimators': 400} at: http://localhost:5000/#/experiments/517529337940852463/runs/192f8234f37e435d9550067884ffb704\n",
      "🧪 View experiment at: http://localhost:5000/#/experiments/517529337940852463\n"
     ]
    },
    {
     "name": "stderr",
     "output_type": "stream",
     "text": [
      "c:\\Users\\RTX\\miniconda3\\envs\\mlops-course\\Lib\\site-packages\\mlflow\\types\\utils.py:452: UserWarning: Hint: Inferred schema contains integer column(s). Integer columns in Python cannot represent missing values. If your input data contains missing values at inference time, it will be encoded as floats and will cause a schema enforcement error. The best way to avoid this problem is to infer the model schema based on a realistic data sample (training dataset) that includes missing values. Alternatively, you can declare integer columns as doubles (float64) whenever these columns may have missing values. See `Handling Integers With Missing Values <https://www.mlflow.org/docs/latest/models.html#handling-integers-with-missing-values>`_ for more details.\n",
      "  warnings.warn(\n",
      "2025/05/10 03:42:17 WARNING mlflow.models.evaluation.evaluators.classifier: According to the evaluation dataset label values, the model type looks like None, but you specified model type 'classifier'. Please verify that you set the `model_type` and `dataset` arguments correctly.\n",
      "2025/05/10 03:42:17 INFO mlflow.models.evaluation.evaluators.classifier: The evaluation dataset is inferred as binary dataset, positive label is 1, negative label is 0.\n",
      "2025/05/10 03:42:17 INFO mlflow.models.evaluation.default_evaluator: Testing metrics on first row...\n",
      "2025/05/10 03:42:17 WARNING mlflow.models.evaluation.evaluators.shap: SHAP or matplotlib package is not installed, so model explainability insights will not be logged.\n",
      "c:\\Users\\RTX\\miniconda3\\envs\\mlops-course\\Lib\\site-packages\\mlflow\\types\\utils.py:452: UserWarning: Hint: Inferred schema contains integer column(s). Integer columns in Python cannot represent missing values. If your input data contains missing values at inference time, it will be encoded as floats and will cause a schema enforcement error. The best way to avoid this problem is to infer the model schema based on a realistic data sample (training dataset) that includes missing values. Alternatively, you can declare integer columns as doubles (float64) whenever these columns may have missing values. See `Handling Integers With Missing Values <https://www.mlflow.org/docs/latest/models.html#handling-integers-with-missing-values>`_ for more details.\n",
      "  warnings.warn(\n"
     ]
    },
    {
     "name": "stdout",
     "output_type": "stream",
     "text": [
      "🏃 View run Params: {'criterion': 'entropy', 'max_depth': 10, 'max_leaf_nodes': 50, 'n_estimators': 700} at: http://localhost:5000/#/experiments/517529337940852463/runs/55f234ba28aa4d959e5885cfd76b4ec2\n",
      "🧪 View experiment at: http://localhost:5000/#/experiments/517529337940852463\n"
     ]
    },
    {
     "name": "stderr",
     "output_type": "stream",
     "text": [
      "c:\\Users\\RTX\\miniconda3\\envs\\mlops-course\\Lib\\site-packages\\mlflow\\types\\utils.py:452: UserWarning: Hint: Inferred schema contains integer column(s). Integer columns in Python cannot represent missing values. If your input data contains missing values at inference time, it will be encoded as floats and will cause a schema enforcement error. The best way to avoid this problem is to infer the model schema based on a realistic data sample (training dataset) that includes missing values. Alternatively, you can declare integer columns as doubles (float64) whenever these columns may have missing values. See `Handling Integers With Missing Values <https://www.mlflow.org/docs/latest/models.html#handling-integers-with-missing-values>`_ for more details.\n",
      "  warnings.warn(\n",
      "2025/05/10 03:42:22 WARNING mlflow.models.evaluation.evaluators.classifier: According to the evaluation dataset label values, the model type looks like None, but you specified model type 'classifier'. Please verify that you set the `model_type` and `dataset` arguments correctly.\n",
      "2025/05/10 03:42:22 INFO mlflow.models.evaluation.evaluators.classifier: The evaluation dataset is inferred as binary dataset, positive label is 1, negative label is 0.\n",
      "2025/05/10 03:42:22 INFO mlflow.models.evaluation.default_evaluator: Testing metrics on first row...\n",
      "2025/05/10 03:42:23 WARNING mlflow.models.evaluation.evaluators.shap: SHAP or matplotlib package is not installed, so model explainability insights will not be logged.\n",
      "c:\\Users\\RTX\\miniconda3\\envs\\mlops-course\\Lib\\site-packages\\mlflow\\types\\utils.py:452: UserWarning: Hint: Inferred schema contains integer column(s). Integer columns in Python cannot represent missing values. If your input data contains missing values at inference time, it will be encoded as floats and will cause a schema enforcement error. The best way to avoid this problem is to infer the model schema based on a realistic data sample (training dataset) that includes missing values. Alternatively, you can declare integer columns as doubles (float64) whenever these columns may have missing values. See `Handling Integers With Missing Values <https://www.mlflow.org/docs/latest/models.html#handling-integers-with-missing-values>`_ for more details.\n",
      "  warnings.warn(\n"
     ]
    },
    {
     "name": "stdout",
     "output_type": "stream",
     "text": [
      "🏃 View run Params: {'criterion': 'entropy', 'max_depth': 10, 'max_leaf_nodes': 100, 'n_estimators': 200} at: http://localhost:5000/#/experiments/517529337940852463/runs/dd4c757c11614026a78ef6d7024462ce\n",
      "🧪 View experiment at: http://localhost:5000/#/experiments/517529337940852463\n"
     ]
    },
    {
     "name": "stderr",
     "output_type": "stream",
     "text": [
      "c:\\Users\\RTX\\miniconda3\\envs\\mlops-course\\Lib\\site-packages\\mlflow\\types\\utils.py:452: UserWarning: Hint: Inferred schema contains integer column(s). Integer columns in Python cannot represent missing values. If your input data contains missing values at inference time, it will be encoded as floats and will cause a schema enforcement error. The best way to avoid this problem is to infer the model schema based on a realistic data sample (training dataset) that includes missing values. Alternatively, you can declare integer columns as doubles (float64) whenever these columns may have missing values. See `Handling Integers With Missing Values <https://www.mlflow.org/docs/latest/models.html#handling-integers-with-missing-values>`_ for more details.\n",
      "  warnings.warn(\n",
      "2025/05/10 03:42:29 WARNING mlflow.models.evaluation.evaluators.classifier: According to the evaluation dataset label values, the model type looks like None, but you specified model type 'classifier'. Please verify that you set the `model_type` and `dataset` arguments correctly.\n",
      "2025/05/10 03:42:29 INFO mlflow.models.evaluation.evaluators.classifier: The evaluation dataset is inferred as binary dataset, positive label is 1, negative label is 0.\n",
      "2025/05/10 03:42:29 INFO mlflow.models.evaluation.default_evaluator: Testing metrics on first row...\n",
      "2025/05/10 03:42:29 WARNING mlflow.models.evaluation.evaluators.shap: SHAP or matplotlib package is not installed, so model explainability insights will not be logged.\n",
      "c:\\Users\\RTX\\miniconda3\\envs\\mlops-course\\Lib\\site-packages\\mlflow\\types\\utils.py:452: UserWarning: Hint: Inferred schema contains integer column(s). Integer columns in Python cannot represent missing values. If your input data contains missing values at inference time, it will be encoded as floats and will cause a schema enforcement error. The best way to avoid this problem is to infer the model schema based on a realistic data sample (training dataset) that includes missing values. Alternatively, you can declare integer columns as doubles (float64) whenever these columns may have missing values. See `Handling Integers With Missing Values <https://www.mlflow.org/docs/latest/models.html#handling-integers-with-missing-values>`_ for more details.\n",
      "  warnings.warn(\n"
     ]
    },
    {
     "name": "stdout",
     "output_type": "stream",
     "text": [
      "🏃 View run Params: {'criterion': 'entropy', 'max_depth': 10, 'max_leaf_nodes': 100, 'n_estimators': 400} at: http://localhost:5000/#/experiments/517529337940852463/runs/25be2a12d6ab41ea98c184fd35adb613\n",
      "🧪 View experiment at: http://localhost:5000/#/experiments/517529337940852463\n"
     ]
    },
    {
     "name": "stderr",
     "output_type": "stream",
     "text": [
      "c:\\Users\\RTX\\miniconda3\\envs\\mlops-course\\Lib\\site-packages\\mlflow\\types\\utils.py:452: UserWarning: Hint: Inferred schema contains integer column(s). Integer columns in Python cannot represent missing values. If your input data contains missing values at inference time, it will be encoded as floats and will cause a schema enforcement error. The best way to avoid this problem is to infer the model schema based on a realistic data sample (training dataset) that includes missing values. Alternatively, you can declare integer columns as doubles (float64) whenever these columns may have missing values. See `Handling Integers With Missing Values <https://www.mlflow.org/docs/latest/models.html#handling-integers-with-missing-values>`_ for more details.\n",
      "  warnings.warn(\n",
      "2025/05/10 03:42:36 WARNING mlflow.models.evaluation.evaluators.classifier: According to the evaluation dataset label values, the model type looks like None, but you specified model type 'classifier'. Please verify that you set the `model_type` and `dataset` arguments correctly.\n",
      "2025/05/10 03:42:36 INFO mlflow.models.evaluation.evaluators.classifier: The evaluation dataset is inferred as binary dataset, positive label is 1, negative label is 0.\n",
      "2025/05/10 03:42:36 INFO mlflow.models.evaluation.default_evaluator: Testing metrics on first row...\n",
      "2025/05/10 03:42:36 WARNING mlflow.models.evaluation.evaluators.shap: SHAP or matplotlib package is not installed, so model explainability insights will not be logged.\n",
      "c:\\Users\\RTX\\miniconda3\\envs\\mlops-course\\Lib\\site-packages\\mlflow\\types\\utils.py:452: UserWarning: Hint: Inferred schema contains integer column(s). Integer columns in Python cannot represent missing values. If your input data contains missing values at inference time, it will be encoded as floats and will cause a schema enforcement error. The best way to avoid this problem is to infer the model schema based on a realistic data sample (training dataset) that includes missing values. Alternatively, you can declare integer columns as doubles (float64) whenever these columns may have missing values. See `Handling Integers With Missing Values <https://www.mlflow.org/docs/latest/models.html#handling-integers-with-missing-values>`_ for more details.\n",
      "  warnings.warn(\n"
     ]
    },
    {
     "name": "stdout",
     "output_type": "stream",
     "text": [
      "🏃 View run Params: {'criterion': 'entropy', 'max_depth': 10, 'max_leaf_nodes': 100, 'n_estimators': 700} at: http://localhost:5000/#/experiments/517529337940852463/runs/fd12beccbc0144e7950680e2448911d8\n",
      "🧪 View experiment at: http://localhost:5000/#/experiments/517529337940852463\n"
     ]
    },
    {
     "name": "stderr",
     "output_type": "stream",
     "text": [
      "c:\\Users\\RTX\\miniconda3\\envs\\mlops-course\\Lib\\site-packages\\mlflow\\types\\utils.py:452: UserWarning: Hint: Inferred schema contains integer column(s). Integer columns in Python cannot represent missing values. If your input data contains missing values at inference time, it will be encoded as floats and will cause a schema enforcement error. The best way to avoid this problem is to infer the model schema based on a realistic data sample (training dataset) that includes missing values. Alternatively, you can declare integer columns as doubles (float64) whenever these columns may have missing values. See `Handling Integers With Missing Values <https://www.mlflow.org/docs/latest/models.html#handling-integers-with-missing-values>`_ for more details.\n",
      "  warnings.warn(\n",
      "2025/05/10 03:42:42 WARNING mlflow.models.evaluation.evaluators.classifier: According to the evaluation dataset label values, the model type looks like None, but you specified model type 'classifier'. Please verify that you set the `model_type` and `dataset` arguments correctly.\n",
      "2025/05/10 03:42:42 INFO mlflow.models.evaluation.evaluators.classifier: The evaluation dataset is inferred as binary dataset, positive label is 1, negative label is 0.\n",
      "2025/05/10 03:42:42 INFO mlflow.models.evaluation.default_evaluator: Testing metrics on first row...\n",
      "2025/05/10 03:42:42 WARNING mlflow.models.evaluation.evaluators.shap: SHAP or matplotlib package is not installed, so model explainability insights will not be logged.\n",
      "c:\\Users\\RTX\\miniconda3\\envs\\mlops-course\\Lib\\site-packages\\mlflow\\types\\utils.py:452: UserWarning: Hint: Inferred schema contains integer column(s). Integer columns in Python cannot represent missing values. If your input data contains missing values at inference time, it will be encoded as floats and will cause a schema enforcement error. The best way to avoid this problem is to infer the model schema based on a realistic data sample (training dataset) that includes missing values. Alternatively, you can declare integer columns as doubles (float64) whenever these columns may have missing values. See `Handling Integers With Missing Values <https://www.mlflow.org/docs/latest/models.html#handling-integers-with-missing-values>`_ for more details.\n",
      "  warnings.warn(\n"
     ]
    },
    {
     "name": "stdout",
     "output_type": "stream",
     "text": [
      "🏃 View run Params: {'criterion': 'entropy', 'max_depth': 20, 'max_leaf_nodes': 50, 'n_estimators': 200} at: http://localhost:5000/#/experiments/517529337940852463/runs/cec944735cbf41c6bf5c7a65995cb73b\n",
      "🧪 View experiment at: http://localhost:5000/#/experiments/517529337940852463\n"
     ]
    },
    {
     "name": "stderr",
     "output_type": "stream",
     "text": [
      "c:\\Users\\RTX\\miniconda3\\envs\\mlops-course\\Lib\\site-packages\\mlflow\\types\\utils.py:452: UserWarning: Hint: Inferred schema contains integer column(s). Integer columns in Python cannot represent missing values. If your input data contains missing values at inference time, it will be encoded as floats and will cause a schema enforcement error. The best way to avoid this problem is to infer the model schema based on a realistic data sample (training dataset) that includes missing values. Alternatively, you can declare integer columns as doubles (float64) whenever these columns may have missing values. See `Handling Integers With Missing Values <https://www.mlflow.org/docs/latest/models.html#handling-integers-with-missing-values>`_ for more details.\n",
      "  warnings.warn(\n",
      "2025/05/10 03:42:48 WARNING mlflow.models.evaluation.evaluators.classifier: According to the evaluation dataset label values, the model type looks like None, but you specified model type 'classifier'. Please verify that you set the `model_type` and `dataset` arguments correctly.\n",
      "2025/05/10 03:42:48 INFO mlflow.models.evaluation.evaluators.classifier: The evaluation dataset is inferred as binary dataset, positive label is 1, negative label is 0.\n",
      "2025/05/10 03:42:48 INFO mlflow.models.evaluation.default_evaluator: Testing metrics on first row...\n",
      "2025/05/10 03:42:49 WARNING mlflow.models.evaluation.evaluators.shap: SHAP or matplotlib package is not installed, so model explainability insights will not be logged.\n",
      "c:\\Users\\RTX\\miniconda3\\envs\\mlops-course\\Lib\\site-packages\\mlflow\\types\\utils.py:452: UserWarning: Hint: Inferred schema contains integer column(s). Integer columns in Python cannot represent missing values. If your input data contains missing values at inference time, it will be encoded as floats and will cause a schema enforcement error. The best way to avoid this problem is to infer the model schema based on a realistic data sample (training dataset) that includes missing values. Alternatively, you can declare integer columns as doubles (float64) whenever these columns may have missing values. See `Handling Integers With Missing Values <https://www.mlflow.org/docs/latest/models.html#handling-integers-with-missing-values>`_ for more details.\n",
      "  warnings.warn(\n"
     ]
    },
    {
     "name": "stdout",
     "output_type": "stream",
     "text": [
      "🏃 View run Params: {'criterion': 'entropy', 'max_depth': 20, 'max_leaf_nodes': 50, 'n_estimators': 400} at: http://localhost:5000/#/experiments/517529337940852463/runs/47b678a35b1f42f4b1c069855f2f4942\n",
      "🧪 View experiment at: http://localhost:5000/#/experiments/517529337940852463\n"
     ]
    },
    {
     "name": "stderr",
     "output_type": "stream",
     "text": [
      "c:\\Users\\RTX\\miniconda3\\envs\\mlops-course\\Lib\\site-packages\\mlflow\\types\\utils.py:452: UserWarning: Hint: Inferred schema contains integer column(s). Integer columns in Python cannot represent missing values. If your input data contains missing values at inference time, it will be encoded as floats and will cause a schema enforcement error. The best way to avoid this problem is to infer the model schema based on a realistic data sample (training dataset) that includes missing values. Alternatively, you can declare integer columns as doubles (float64) whenever these columns may have missing values. See `Handling Integers With Missing Values <https://www.mlflow.org/docs/latest/models.html#handling-integers-with-missing-values>`_ for more details.\n",
      "  warnings.warn(\n",
      "2025/05/10 03:42:55 WARNING mlflow.models.evaluation.evaluators.classifier: According to the evaluation dataset label values, the model type looks like None, but you specified model type 'classifier'. Please verify that you set the `model_type` and `dataset` arguments correctly.\n",
      "2025/05/10 03:42:55 INFO mlflow.models.evaluation.evaluators.classifier: The evaluation dataset is inferred as binary dataset, positive label is 1, negative label is 0.\n",
      "2025/05/10 03:42:55 INFO mlflow.models.evaluation.default_evaluator: Testing metrics on first row...\n",
      "2025/05/10 03:42:55 WARNING mlflow.models.evaluation.evaluators.shap: SHAP or matplotlib package is not installed, so model explainability insights will not be logged.\n",
      "c:\\Users\\RTX\\miniconda3\\envs\\mlops-course\\Lib\\site-packages\\mlflow\\types\\utils.py:452: UserWarning: Hint: Inferred schema contains integer column(s). Integer columns in Python cannot represent missing values. If your input data contains missing values at inference time, it will be encoded as floats and will cause a schema enforcement error. The best way to avoid this problem is to infer the model schema based on a realistic data sample (training dataset) that includes missing values. Alternatively, you can declare integer columns as doubles (float64) whenever these columns may have missing values. See `Handling Integers With Missing Values <https://www.mlflow.org/docs/latest/models.html#handling-integers-with-missing-values>`_ for more details.\n",
      "  warnings.warn(\n"
     ]
    },
    {
     "name": "stdout",
     "output_type": "stream",
     "text": [
      "🏃 View run Params: {'criterion': 'entropy', 'max_depth': 20, 'max_leaf_nodes': 50, 'n_estimators': 700} at: http://localhost:5000/#/experiments/517529337940852463/runs/398b92761ba74b5bb04192bd646856e0\n",
      "🧪 View experiment at: http://localhost:5000/#/experiments/517529337940852463\n"
     ]
    },
    {
     "name": "stderr",
     "output_type": "stream",
     "text": [
      "c:\\Users\\RTX\\miniconda3\\envs\\mlops-course\\Lib\\site-packages\\mlflow\\types\\utils.py:452: UserWarning: Hint: Inferred schema contains integer column(s). Integer columns in Python cannot represent missing values. If your input data contains missing values at inference time, it will be encoded as floats and will cause a schema enforcement error. The best way to avoid this problem is to infer the model schema based on a realistic data sample (training dataset) that includes missing values. Alternatively, you can declare integer columns as doubles (float64) whenever these columns may have missing values. See `Handling Integers With Missing Values <https://www.mlflow.org/docs/latest/models.html#handling-integers-with-missing-values>`_ for more details.\n",
      "  warnings.warn(\n",
      "2025/05/10 03:43:01 WARNING mlflow.models.evaluation.evaluators.classifier: According to the evaluation dataset label values, the model type looks like None, but you specified model type 'classifier'. Please verify that you set the `model_type` and `dataset` arguments correctly.\n",
      "2025/05/10 03:43:01 INFO mlflow.models.evaluation.evaluators.classifier: The evaluation dataset is inferred as binary dataset, positive label is 1, negative label is 0.\n",
      "2025/05/10 03:43:01 INFO mlflow.models.evaluation.default_evaluator: Testing metrics on first row...\n",
      "2025/05/10 03:43:01 WARNING mlflow.models.evaluation.evaluators.shap: SHAP or matplotlib package is not installed, so model explainability insights will not be logged.\n",
      "c:\\Users\\RTX\\miniconda3\\envs\\mlops-course\\Lib\\site-packages\\mlflow\\types\\utils.py:452: UserWarning: Hint: Inferred schema contains integer column(s). Integer columns in Python cannot represent missing values. If your input data contains missing values at inference time, it will be encoded as floats and will cause a schema enforcement error. The best way to avoid this problem is to infer the model schema based on a realistic data sample (training dataset) that includes missing values. Alternatively, you can declare integer columns as doubles (float64) whenever these columns may have missing values. See `Handling Integers With Missing Values <https://www.mlflow.org/docs/latest/models.html#handling-integers-with-missing-values>`_ for more details.\n",
      "  warnings.warn(\n"
     ]
    },
    {
     "name": "stdout",
     "output_type": "stream",
     "text": [
      "🏃 View run Params: {'criterion': 'entropy', 'max_depth': 20, 'max_leaf_nodes': 100, 'n_estimators': 200} at: http://localhost:5000/#/experiments/517529337940852463/runs/1f11355d92d84c90a7586ffaf9649011\n",
      "🧪 View experiment at: http://localhost:5000/#/experiments/517529337940852463\n"
     ]
    },
    {
     "name": "stderr",
     "output_type": "stream",
     "text": [
      "c:\\Users\\RTX\\miniconda3\\envs\\mlops-course\\Lib\\site-packages\\mlflow\\types\\utils.py:452: UserWarning: Hint: Inferred schema contains integer column(s). Integer columns in Python cannot represent missing values. If your input data contains missing values at inference time, it will be encoded as floats and will cause a schema enforcement error. The best way to avoid this problem is to infer the model schema based on a realistic data sample (training dataset) that includes missing values. Alternatively, you can declare integer columns as doubles (float64) whenever these columns may have missing values. See `Handling Integers With Missing Values <https://www.mlflow.org/docs/latest/models.html#handling-integers-with-missing-values>`_ for more details.\n",
      "  warnings.warn(\n",
      "2025/05/10 03:43:06 WARNING mlflow.models.evaluation.evaluators.classifier: According to the evaluation dataset label values, the model type looks like None, but you specified model type 'classifier'. Please verify that you set the `model_type` and `dataset` arguments correctly.\n",
      "2025/05/10 03:43:06 INFO mlflow.models.evaluation.evaluators.classifier: The evaluation dataset is inferred as binary dataset, positive label is 1, negative label is 0.\n",
      "2025/05/10 03:43:06 INFO mlflow.models.evaluation.default_evaluator: Testing metrics on first row...\n",
      "2025/05/10 03:43:06 WARNING mlflow.models.evaluation.evaluators.shap: SHAP or matplotlib package is not installed, so model explainability insights will not be logged.\n",
      "c:\\Users\\RTX\\miniconda3\\envs\\mlops-course\\Lib\\site-packages\\mlflow\\types\\utils.py:452: UserWarning: Hint: Inferred schema contains integer column(s). Integer columns in Python cannot represent missing values. If your input data contains missing values at inference time, it will be encoded as floats and will cause a schema enforcement error. The best way to avoid this problem is to infer the model schema based on a realistic data sample (training dataset) that includes missing values. Alternatively, you can declare integer columns as doubles (float64) whenever these columns may have missing values. See `Handling Integers With Missing Values <https://www.mlflow.org/docs/latest/models.html#handling-integers-with-missing-values>`_ for more details.\n",
      "  warnings.warn(\n"
     ]
    },
    {
     "name": "stdout",
     "output_type": "stream",
     "text": [
      "🏃 View run Params: {'criterion': 'entropy', 'max_depth': 20, 'max_leaf_nodes': 100, 'n_estimators': 400} at: http://localhost:5000/#/experiments/517529337940852463/runs/f59e2765174544bbb3fc4382e7bab8b4\n",
      "🧪 View experiment at: http://localhost:5000/#/experiments/517529337940852463\n"
     ]
    },
    {
     "name": "stderr",
     "output_type": "stream",
     "text": [
      "c:\\Users\\RTX\\miniconda3\\envs\\mlops-course\\Lib\\site-packages\\mlflow\\types\\utils.py:452: UserWarning: Hint: Inferred schema contains integer column(s). Integer columns in Python cannot represent missing values. If your input data contains missing values at inference time, it will be encoded as floats and will cause a schema enforcement error. The best way to avoid this problem is to infer the model schema based on a realistic data sample (training dataset) that includes missing values. Alternatively, you can declare integer columns as doubles (float64) whenever these columns may have missing values. See `Handling Integers With Missing Values <https://www.mlflow.org/docs/latest/models.html#handling-integers-with-missing-values>`_ for more details.\n",
      "  warnings.warn(\n",
      "2025/05/10 03:43:12 WARNING mlflow.models.evaluation.evaluators.classifier: According to the evaluation dataset label values, the model type looks like None, but you specified model type 'classifier'. Please verify that you set the `model_type` and `dataset` arguments correctly.\n",
      "2025/05/10 03:43:12 INFO mlflow.models.evaluation.evaluators.classifier: The evaluation dataset is inferred as binary dataset, positive label is 1, negative label is 0.\n",
      "2025/05/10 03:43:12 INFO mlflow.models.evaluation.default_evaluator: Testing metrics on first row...\n",
      "2025/05/10 03:43:12 WARNING mlflow.models.evaluation.evaluators.shap: SHAP or matplotlib package is not installed, so model explainability insights will not be logged.\n",
      "c:\\Users\\RTX\\miniconda3\\envs\\mlops-course\\Lib\\site-packages\\mlflow\\types\\utils.py:452: UserWarning: Hint: Inferred schema contains integer column(s). Integer columns in Python cannot represent missing values. If your input data contains missing values at inference time, it will be encoded as floats and will cause a schema enforcement error. The best way to avoid this problem is to infer the model schema based on a realistic data sample (training dataset) that includes missing values. Alternatively, you can declare integer columns as doubles (float64) whenever these columns may have missing values. See `Handling Integers With Missing Values <https://www.mlflow.org/docs/latest/models.html#handling-integers-with-missing-values>`_ for more details.\n",
      "  warnings.warn(\n"
     ]
    },
    {
     "name": "stdout",
     "output_type": "stream",
     "text": [
      "🏃 View run Params: {'criterion': 'entropy', 'max_depth': 20, 'max_leaf_nodes': 100, 'n_estimators': 700} at: http://localhost:5000/#/experiments/517529337940852463/runs/a77c095aabe248fca13ebc102087c2e7\n",
      "🧪 View experiment at: http://localhost:5000/#/experiments/517529337940852463\n"
     ]
    },
    {
     "name": "stderr",
     "output_type": "stream",
     "text": [
      "c:\\Users\\RTX\\miniconda3\\envs\\mlops-course\\Lib\\site-packages\\mlflow\\types\\utils.py:452: UserWarning: Hint: Inferred schema contains integer column(s). Integer columns in Python cannot represent missing values. If your input data contains missing values at inference time, it will be encoded as floats and will cause a schema enforcement error. The best way to avoid this problem is to infer the model schema based on a realistic data sample (training dataset) that includes missing values. Alternatively, you can declare integer columns as doubles (float64) whenever these columns may have missing values. See `Handling Integers With Missing Values <https://www.mlflow.org/docs/latest/models.html#handling-integers-with-missing-values>`_ for more details.\n",
      "  warnings.warn(\n",
      "2025/05/10 03:43:18 WARNING mlflow.models.evaluation.evaluators.classifier: According to the evaluation dataset label values, the model type looks like None, but you specified model type 'classifier'. Please verify that you set the `model_type` and `dataset` arguments correctly.\n",
      "2025/05/10 03:43:18 INFO mlflow.models.evaluation.evaluators.classifier: The evaluation dataset is inferred as binary dataset, positive label is 1, negative label is 0.\n",
      "2025/05/10 03:43:18 INFO mlflow.models.evaluation.default_evaluator: Testing metrics on first row...\n",
      "2025/05/10 03:43:18 WARNING mlflow.models.evaluation.evaluators.shap: SHAP or matplotlib package is not installed, so model explainability insights will not be logged.\n",
      "c:\\Users\\RTX\\miniconda3\\envs\\mlops-course\\Lib\\site-packages\\mlflow\\types\\utils.py:452: UserWarning: Hint: Inferred schema contains integer column(s). Integer columns in Python cannot represent missing values. If your input data contains missing values at inference time, it will be encoded as floats and will cause a schema enforcement error. The best way to avoid this problem is to infer the model schema based on a realistic data sample (training dataset) that includes missing values. Alternatively, you can declare integer columns as doubles (float64) whenever these columns may have missing values. See `Handling Integers With Missing Values <https://www.mlflow.org/docs/latest/models.html#handling-integers-with-missing-values>`_ for more details.\n",
      "  warnings.warn(\n"
     ]
    },
    {
     "name": "stdout",
     "output_type": "stream",
     "text": [
      "🏃 View run Params: {'criterion': 'entropy', 'max_depth': 30, 'max_leaf_nodes': 50, 'n_estimators': 200} at: http://localhost:5000/#/experiments/517529337940852463/runs/2e38b84cb8a348fc996b1bb28bafcf05\n",
      "🧪 View experiment at: http://localhost:5000/#/experiments/517529337940852463\n"
     ]
    },
    {
     "name": "stderr",
     "output_type": "stream",
     "text": [
      "c:\\Users\\RTX\\miniconda3\\envs\\mlops-course\\Lib\\site-packages\\mlflow\\types\\utils.py:452: UserWarning: Hint: Inferred schema contains integer column(s). Integer columns in Python cannot represent missing values. If your input data contains missing values at inference time, it will be encoded as floats and will cause a schema enforcement error. The best way to avoid this problem is to infer the model schema based on a realistic data sample (training dataset) that includes missing values. Alternatively, you can declare integer columns as doubles (float64) whenever these columns may have missing values. See `Handling Integers With Missing Values <https://www.mlflow.org/docs/latest/models.html#handling-integers-with-missing-values>`_ for more details.\n",
      "  warnings.warn(\n",
      "2025/05/10 03:43:23 WARNING mlflow.models.evaluation.evaluators.classifier: According to the evaluation dataset label values, the model type looks like None, but you specified model type 'classifier'. Please verify that you set the `model_type` and `dataset` arguments correctly.\n",
      "2025/05/10 03:43:23 INFO mlflow.models.evaluation.evaluators.classifier: The evaluation dataset is inferred as binary dataset, positive label is 1, negative label is 0.\n",
      "2025/05/10 03:43:23 INFO mlflow.models.evaluation.default_evaluator: Testing metrics on first row...\n",
      "2025/05/10 03:43:24 WARNING mlflow.models.evaluation.evaluators.shap: SHAP or matplotlib package is not installed, so model explainability insights will not be logged.\n",
      "c:\\Users\\RTX\\miniconda3\\envs\\mlops-course\\Lib\\site-packages\\mlflow\\types\\utils.py:452: UserWarning: Hint: Inferred schema contains integer column(s). Integer columns in Python cannot represent missing values. If your input data contains missing values at inference time, it will be encoded as floats and will cause a schema enforcement error. The best way to avoid this problem is to infer the model schema based on a realistic data sample (training dataset) that includes missing values. Alternatively, you can declare integer columns as doubles (float64) whenever these columns may have missing values. See `Handling Integers With Missing Values <https://www.mlflow.org/docs/latest/models.html#handling-integers-with-missing-values>`_ for more details.\n",
      "  warnings.warn(\n"
     ]
    },
    {
     "name": "stdout",
     "output_type": "stream",
     "text": [
      "🏃 View run Params: {'criterion': 'entropy', 'max_depth': 30, 'max_leaf_nodes': 50, 'n_estimators': 400} at: http://localhost:5000/#/experiments/517529337940852463/runs/9c9c3040319c4684abf941c7b589b5b3\n",
      "🧪 View experiment at: http://localhost:5000/#/experiments/517529337940852463\n"
     ]
    },
    {
     "name": "stderr",
     "output_type": "stream",
     "text": [
      "c:\\Users\\RTX\\miniconda3\\envs\\mlops-course\\Lib\\site-packages\\mlflow\\types\\utils.py:452: UserWarning: Hint: Inferred schema contains integer column(s). Integer columns in Python cannot represent missing values. If your input data contains missing values at inference time, it will be encoded as floats and will cause a schema enforcement error. The best way to avoid this problem is to infer the model schema based on a realistic data sample (training dataset) that includes missing values. Alternatively, you can declare integer columns as doubles (float64) whenever these columns may have missing values. See `Handling Integers With Missing Values <https://www.mlflow.org/docs/latest/models.html#handling-integers-with-missing-values>`_ for more details.\n",
      "  warnings.warn(\n",
      "2025/05/10 03:43:29 WARNING mlflow.models.evaluation.evaluators.classifier: According to the evaluation dataset label values, the model type looks like None, but you specified model type 'classifier'. Please verify that you set the `model_type` and `dataset` arguments correctly.\n",
      "2025/05/10 03:43:29 INFO mlflow.models.evaluation.evaluators.classifier: The evaluation dataset is inferred as binary dataset, positive label is 1, negative label is 0.\n",
      "2025/05/10 03:43:29 INFO mlflow.models.evaluation.default_evaluator: Testing metrics on first row...\n",
      "2025/05/10 03:43:29 WARNING mlflow.models.evaluation.evaluators.shap: SHAP or matplotlib package is not installed, so model explainability insights will not be logged.\n",
      "c:\\Users\\RTX\\miniconda3\\envs\\mlops-course\\Lib\\site-packages\\mlflow\\types\\utils.py:452: UserWarning: Hint: Inferred schema contains integer column(s). Integer columns in Python cannot represent missing values. If your input data contains missing values at inference time, it will be encoded as floats and will cause a schema enforcement error. The best way to avoid this problem is to infer the model schema based on a realistic data sample (training dataset) that includes missing values. Alternatively, you can declare integer columns as doubles (float64) whenever these columns may have missing values. See `Handling Integers With Missing Values <https://www.mlflow.org/docs/latest/models.html#handling-integers-with-missing-values>`_ for more details.\n",
      "  warnings.warn(\n"
     ]
    },
    {
     "name": "stdout",
     "output_type": "stream",
     "text": [
      "🏃 View run Params: {'criterion': 'entropy', 'max_depth': 30, 'max_leaf_nodes': 50, 'n_estimators': 700} at: http://localhost:5000/#/experiments/517529337940852463/runs/4f31694bb24c4886bfb043e479b24804\n",
      "🧪 View experiment at: http://localhost:5000/#/experiments/517529337940852463\n"
     ]
    },
    {
     "name": "stderr",
     "output_type": "stream",
     "text": [
      "c:\\Users\\RTX\\miniconda3\\envs\\mlops-course\\Lib\\site-packages\\mlflow\\types\\utils.py:452: UserWarning: Hint: Inferred schema contains integer column(s). Integer columns in Python cannot represent missing values. If your input data contains missing values at inference time, it will be encoded as floats and will cause a schema enforcement error. The best way to avoid this problem is to infer the model schema based on a realistic data sample (training dataset) that includes missing values. Alternatively, you can declare integer columns as doubles (float64) whenever these columns may have missing values. See `Handling Integers With Missing Values <https://www.mlflow.org/docs/latest/models.html#handling-integers-with-missing-values>`_ for more details.\n",
      "  warnings.warn(\n",
      "2025/05/10 03:43:35 WARNING mlflow.models.evaluation.evaluators.classifier: According to the evaluation dataset label values, the model type looks like None, but you specified model type 'classifier'. Please verify that you set the `model_type` and `dataset` arguments correctly.\n",
      "2025/05/10 03:43:35 INFO mlflow.models.evaluation.evaluators.classifier: The evaluation dataset is inferred as binary dataset, positive label is 1, negative label is 0.\n",
      "2025/05/10 03:43:35 INFO mlflow.models.evaluation.default_evaluator: Testing metrics on first row...\n",
      "2025/05/10 03:43:35 WARNING mlflow.models.evaluation.evaluators.shap: SHAP or matplotlib package is not installed, so model explainability insights will not be logged.\n",
      "c:\\Users\\RTX\\miniconda3\\envs\\mlops-course\\Lib\\site-packages\\mlflow\\types\\utils.py:452: UserWarning: Hint: Inferred schema contains integer column(s). Integer columns in Python cannot represent missing values. If your input data contains missing values at inference time, it will be encoded as floats and will cause a schema enforcement error. The best way to avoid this problem is to infer the model schema based on a realistic data sample (training dataset) that includes missing values. Alternatively, you can declare integer columns as doubles (float64) whenever these columns may have missing values. See `Handling Integers With Missing Values <https://www.mlflow.org/docs/latest/models.html#handling-integers-with-missing-values>`_ for more details.\n",
      "  warnings.warn(\n"
     ]
    },
    {
     "name": "stdout",
     "output_type": "stream",
     "text": [
      "🏃 View run Params: {'criterion': 'entropy', 'max_depth': 30, 'max_leaf_nodes': 100, 'n_estimators': 200} at: http://localhost:5000/#/experiments/517529337940852463/runs/b6dee191db4b4a83880dfd88d87f69ee\n",
      "🧪 View experiment at: http://localhost:5000/#/experiments/517529337940852463\n"
     ]
    },
    {
     "name": "stderr",
     "output_type": "stream",
     "text": [
      "c:\\Users\\RTX\\miniconda3\\envs\\mlops-course\\Lib\\site-packages\\mlflow\\types\\utils.py:452: UserWarning: Hint: Inferred schema contains integer column(s). Integer columns in Python cannot represent missing values. If your input data contains missing values at inference time, it will be encoded as floats and will cause a schema enforcement error. The best way to avoid this problem is to infer the model schema based on a realistic data sample (training dataset) that includes missing values. Alternatively, you can declare integer columns as doubles (float64) whenever these columns may have missing values. See `Handling Integers With Missing Values <https://www.mlflow.org/docs/latest/models.html#handling-integers-with-missing-values>`_ for more details.\n",
      "  warnings.warn(\n",
      "2025/05/10 03:43:40 WARNING mlflow.models.evaluation.evaluators.classifier: According to the evaluation dataset label values, the model type looks like None, but you specified model type 'classifier'. Please verify that you set the `model_type` and `dataset` arguments correctly.\n",
      "2025/05/10 03:43:40 INFO mlflow.models.evaluation.evaluators.classifier: The evaluation dataset is inferred as binary dataset, positive label is 1, negative label is 0.\n",
      "2025/05/10 03:43:40 INFO mlflow.models.evaluation.default_evaluator: Testing metrics on first row...\n",
      "2025/05/10 03:43:40 WARNING mlflow.models.evaluation.evaluators.shap: SHAP or matplotlib package is not installed, so model explainability insights will not be logged.\n",
      "c:\\Users\\RTX\\miniconda3\\envs\\mlops-course\\Lib\\site-packages\\mlflow\\types\\utils.py:452: UserWarning: Hint: Inferred schema contains integer column(s). Integer columns in Python cannot represent missing values. If your input data contains missing values at inference time, it will be encoded as floats and will cause a schema enforcement error. The best way to avoid this problem is to infer the model schema based on a realistic data sample (training dataset) that includes missing values. Alternatively, you can declare integer columns as doubles (float64) whenever these columns may have missing values. See `Handling Integers With Missing Values <https://www.mlflow.org/docs/latest/models.html#handling-integers-with-missing-values>`_ for more details.\n",
      "  warnings.warn(\n"
     ]
    },
    {
     "name": "stdout",
     "output_type": "stream",
     "text": [
      "🏃 View run Params: {'criterion': 'entropy', 'max_depth': 30, 'max_leaf_nodes': 100, 'n_estimators': 400} at: http://localhost:5000/#/experiments/517529337940852463/runs/e57ae7aaec484fdb8bd598b62c102be3\n",
      "🧪 View experiment at: http://localhost:5000/#/experiments/517529337940852463\n"
     ]
    },
    {
     "name": "stderr",
     "output_type": "stream",
     "text": [
      "c:\\Users\\RTX\\miniconda3\\envs\\mlops-course\\Lib\\site-packages\\mlflow\\types\\utils.py:452: UserWarning: Hint: Inferred schema contains integer column(s). Integer columns in Python cannot represent missing values. If your input data contains missing values at inference time, it will be encoded as floats and will cause a schema enforcement error. The best way to avoid this problem is to infer the model schema based on a realistic data sample (training dataset) that includes missing values. Alternatively, you can declare integer columns as doubles (float64) whenever these columns may have missing values. See `Handling Integers With Missing Values <https://www.mlflow.org/docs/latest/models.html#handling-integers-with-missing-values>`_ for more details.\n",
      "  warnings.warn(\n",
      "2025/05/10 03:43:46 WARNING mlflow.models.evaluation.evaluators.classifier: According to the evaluation dataset label values, the model type looks like None, but you specified model type 'classifier'. Please verify that you set the `model_type` and `dataset` arguments correctly.\n",
      "2025/05/10 03:43:46 INFO mlflow.models.evaluation.evaluators.classifier: The evaluation dataset is inferred as binary dataset, positive label is 1, negative label is 0.\n",
      "2025/05/10 03:43:46 INFO mlflow.models.evaluation.default_evaluator: Testing metrics on first row...\n",
      "2025/05/10 03:43:46 WARNING mlflow.models.evaluation.evaluators.shap: SHAP or matplotlib package is not installed, so model explainability insights will not be logged.\n"
     ]
    },
    {
     "name": "stdout",
     "output_type": "stream",
     "text": [
      "🏃 View run Params: {'criterion': 'entropy', 'max_depth': 30, 'max_leaf_nodes': 100, 'n_estimators': 700} at: http://localhost:5000/#/experiments/517529337940852463/runs/c1529ce5797643e2a5bd5529b3d0daeb\n",
      "🧪 View experiment at: http://localhost:5000/#/experiments/517529337940852463\n",
      "🏃 View run RandomForestClassifier Grid Search at: http://localhost:5000/#/experiments/517529337940852463/runs/e343f792a0f24632b9c6daf03943df14\n",
      "🧪 View experiment at: http://localhost:5000/#/experiments/517529337940852463\n"
     ]
    },
    {
     "data": {
      "text/plain": [
       "<Figure size 1050x700 with 0 Axes>"
      ]
     },
     "metadata": {},
     "output_type": "display_data"
    }
   ],
   "source": [
    "from sklearn.model_selection import GridSearchCV\n",
    "import mlflow\n",
    "\n",
    "# Function to log each grid search iteration\n",
    "def log_grid_search_results(grid_search, model_name):\n",
    "    \"\"\"\n",
    "    Logs all grid search results into MLflow.\n",
    "    \"\"\"\n",
    "    with mlflow.start_run(run_name=f\"{model_name} Grid Search\"):\n",
    "        # Log all hyperparameter combinations and their scores\n",
    "        # Create an instance of a PandasDataset\n",
    "        dataset = mlflow.data.from_pandas(\n",
    "            X_train, name=\"Loan Data Training\"\n",
    "        )\n",
    "\n",
    "        mlflow.log_input(dataset, context=\"training\")\n",
    "\n",
    "        for i in range(len(grid_search.cv_results_['params'])):\n",
    "            params = grid_search.cv_results_['params'][i]\n",
    "            mean_test_score = grid_search.cv_results_['mean_test_score'][i]\n",
    "            std_test_score = grid_search.cv_results_['std_test_score'][i]\n",
    "            \n",
    "            # Start a nested run for each hyperparameter combination\n",
    "            with mlflow.start_run(run_name=f\"Params: {params}\", nested=True):\n",
    "                mlflow.log_params(params)\n",
    "                mlflow.log_metrics({\n",
    "                    \"Mean Test Score\": mean_test_score,\n",
    "                    \"Std Test Score\": std_test_score\n",
    "                })\n",
    "                ######## Evaluation Logging ########\n",
    "                eval_data = X_test.copy()\n",
    "                eval_data['Loan_Status'] = y_test\n",
    "                # Assign the decoded predictions to the Evaluation Dataset\n",
    "                eval_data[\"Predictions\"] = grid_search.predict(X=X_test)\n",
    "\n",
    "                # Create the PandasDataset for use in mlflow evaluate\n",
    "                pd_dataset = mlflow.data.from_pandas(\n",
    "                    eval_data, predictions=\"Predictions\", targets=\"Loan_Status\", name=\"Loan Data Evaluation\"\n",
    "                )\n",
    "                \n",
    "                signature = mlflow.models.infer_signature(X_train, y_train) ### INFERING THE SIGNATURE\n",
    "                mlflow.sklearn.log_model(model_forest, \"RandomForestModel\", signature=signature, input_example=X_train.iloc[[0]])\n",
    "\n",
    "                result = mlflow.evaluate(data=pd_dataset, predictions=None, model_type=\"classifier\")\n",
    "\n",
    "        # Log the best parameters and score\n",
    "        mlflow.log_params(grid_search.best_params_)\n",
    "        mlflow.log_metric(\"Best Mean Test Score\", grid_search.best_score_)\n",
    "        \n",
    "\n",
    "# Example: Random Forest Grid Search\n",
    "rf = RandomForestClassifier(random_state=RANDOM_SEED)\n",
    "param_grid_forest = {\n",
    "    'n_estimators': [200, 400, 700],\n",
    "    'max_depth': [10, 20, 30],\n",
    "    'criterion': [\"gini\", \"entropy\"],\n",
    "    'max_leaf_nodes': [50, 100]\n",
    "}\n",
    "\n",
    "grid_forest = GridSearchCV(\n",
    "    estimator=rf,\n",
    "    param_grid=param_grid_forest,\n",
    "    cv=5,\n",
    "    n_jobs=-1,\n",
    "    scoring='accuracy',\n",
    "    verbose=0\n",
    ")\n",
    "\n",
    "# Fit the grid search\n",
    "grid_forest.fit(X_train, y_train)\n",
    "\n",
    "# Log all grid search results into MLflow\n",
    "log_grid_search_results(grid_forest, \"RandomForestClassifier\")"
   ]
  },
  {
   "cell_type": "markdown",
   "id": "14f68b3b",
   "metadata": {},
   "source": [
    "### Load Data"
   ]
  },
  {
   "cell_type": "markdown",
   "id": "d86443a4",
   "metadata": {},
   "source": [
    "If you only logged metadata using mlflow.data.from_pandas():\n",
    "\n",
    "This logs metadata only: schema, shape, etc.\n",
    "\n",
    "The actual data is not saved, so you cannot load it back later.\n",
    "\n",
    "This is for lineage/tracking, not storage."
   ]
  },
  {
   "cell_type": "code",
   "execution_count": 16,
   "id": "a0619509",
   "metadata": {},
   "outputs": [
    {
     "name": "stdout",
     "output_type": "stream",
     "text": [
      "Dataset name: Loan Data Training\n",
      "Dataset digest: 27d345db\n",
      "Dataset profile: {\"num_rows\": 429, \"num_elements\": 4290}\n",
      "Dataset schema: {\"mlflow_colspec\": [{\"type\": \"long\", \"name\": \"Gender\", \"required\": true}, {\"type\": \"long\", \"name\": \"Married\", \"required\": true}, {\"type\": \"long\", \"name\": \"Dependents\", \"required\": true}, {\"type\": \"long\", \"name\": \"Education\", \"required\": true}, {\"type\": \"long\", \"name\": \"Self_Employed\", \"required\": true}, {\"type\": \"double\", \"name\": \"LoanAmount\", \"required\": true}, {\"type\": \"double\", \"name\": \"Loan_Amount_Term\", \"required\": true}, {\"type\": \"double\", \"name\": \"Credit_History\", \"required\": true}, {\"type\": \"long\", \"name\": \"Property_Area\", \"required\": true}, {\"type\": \"double\", \"name\": \"TotalIncome\", \"required\": true}]}\n"
     ]
    }
   ],
   "source": [
    "# Retrieve the run information\n",
    "logged_run = mlflow.get_run(\"e343f792a0f24632b9c6daf03943df14\")\n",
    "\n",
    "# Retrieve the Dataset object\n",
    "logged_dataset = logged_run.inputs.dataset_inputs[0].dataset\n",
    "\n",
    "# View some of the recorded Dataset information\n",
    "print(f\"Dataset name: {logged_dataset.name}\")\n",
    "print(f\"Dataset digest: {logged_dataset.digest}\")\n",
    "print(f\"Dataset profile: {logged_dataset.profile}\")\n",
    "print(f\"Dataset schema: {logged_dataset.schema}\")"
   ]
  },
  {
   "cell_type": "code",
   "execution_count": 17,
   "id": "997eb22d",
   "metadata": {},
   "outputs": [
    {
     "ename": "NotImplementedError",
     "evalue": "",
     "output_type": "error",
     "traceback": [
      "\u001b[31m---------------------------------------------------------------------------\u001b[39m",
      "\u001b[31mNotImplementedError\u001b[39m                       Traceback (most recent call last)",
      "\u001b[36mCell\u001b[39m\u001b[36m \u001b[39m\u001b[32mIn[17]\u001b[39m\u001b[32m, line 4\u001b[39m\n\u001b[32m      1\u001b[39m \u001b[38;5;66;03m# Loading the dataset's source\u001b[39;00m\n\u001b[32m      2\u001b[39m dataset_source = mlflow.data.get_source(logged_dataset)\n\u001b[32m----> \u001b[39m\u001b[32m4\u001b[39m local_dataset = \u001b[43mdataset_source\u001b[49m\u001b[43m.\u001b[49m\u001b[43mload\u001b[49m\u001b[43m(\u001b[49m\u001b[43m)\u001b[49m\n\u001b[32m      6\u001b[39m \u001b[38;5;28mprint\u001b[39m(\u001b[33mf\u001b[39m\u001b[33m\"\u001b[39m\u001b[33mThe local file where the data has been downloaded to: \u001b[39m\u001b[38;5;132;01m{\u001b[39;00mlocal_dataset\u001b[38;5;132;01m}\u001b[39;00m\u001b[33m\"\u001b[39m)\n\u001b[32m      8\u001b[39m \u001b[38;5;66;03m# Load the data again\u001b[39;00m\n",
      "\u001b[36mFile \u001b[39m\u001b[32mc:\\Users\\RTX\\miniconda3\\envs\\mlops-course\\Lib\\site-packages\\mlflow\\data\\code_dataset_source.py:23\u001b[39m, in \u001b[36mCodeDatasetSource.load\u001b[39m\u001b[34m(self, **kwargs)\u001b[39m\n\u001b[32m     19\u001b[39m \u001b[38;5;28;01mdef\u001b[39;00m\u001b[38;5;250m \u001b[39m\u001b[34mload\u001b[39m(\u001b[38;5;28mself\u001b[39m, **kwargs):\n\u001b[32m     20\u001b[39m \u001b[38;5;250m    \u001b[39m\u001b[33;03m\"\"\"\u001b[39;00m\n\u001b[32m     21\u001b[39m \u001b[33;03m    Load is not implemented for Code Dataset Source.\u001b[39;00m\n\u001b[32m     22\u001b[39m \u001b[33;03m    \"\"\"\u001b[39;00m\n\u001b[32m---> \u001b[39m\u001b[32m23\u001b[39m     \u001b[38;5;28;01mraise\u001b[39;00m \u001b[38;5;167;01mNotImplementedError\u001b[39;00m\n",
      "\u001b[31mNotImplementedError\u001b[39m: "
     ]
    }
   ],
   "source": [
    "# Loading the dataset's source\n",
    "dataset_source = mlflow.data.get_source(logged_dataset)\n",
    "\n",
    "local_dataset = dataset_source.load()\n",
    "\n",
    "print(f\"The local file where the data has been downloaded to: {local_dataset}\")\n",
    "\n",
    "# Load the data again\n",
    "loaded_data = pd.read_csv(local_dataset, delimiter=\",\")\n",
    "\n",
    "loaded_data.head()"
   ]
  },
  {
   "cell_type": "markdown",
   "id": "164d9a06",
   "metadata": {},
   "source": [
    "### Load Model"
   ]
  },
  {
   "cell_type": "markdown",
   "id": "16ac05b5",
   "metadata": {},
   "source": [
    "In MLflow, models that are logged during training are saved as artifacts, allowing for easy reuse and deployment. These logged models can later be loaded either from the local directory where they were saved or directly from a specific run’s artifact URI. This makes it simple to reproduce results, compare models, or integrate them into production workflows without retraining."
   ]
  },
  {
   "cell_type": "markdown",
   "id": "5698cba7",
   "metadata": {},
   "source": [
    "Here we have the original model and we'll compare the model output to the logged model output"
   ]
  },
  {
   "cell_type": "code",
   "execution_count": 18,
   "id": "9df39ccc",
   "metadata": {},
   "outputs": [
    {
     "ename": "NotFittedError",
     "evalue": "This DecisionTreeClassifier instance is not fitted yet. Call 'fit' with appropriate arguments before using this estimator.",
     "output_type": "error",
     "traceback": [
      "\u001b[31m---------------------------------------------------------------------------\u001b[39m",
      "\u001b[31mNotFittedError\u001b[39m                            Traceback (most recent call last)",
      "\u001b[36mCell\u001b[39m\u001b[36m \u001b[39m\u001b[32mIn[18]\u001b[39m\u001b[32m, line 1\u001b[39m\n\u001b[32m----> \u001b[39m\u001b[32m1\u001b[39m \u001b[43mdt\u001b[49m\u001b[43m.\u001b[49m\u001b[43mpredict\u001b[49m\u001b[43m(\u001b[49m\u001b[43mpd\u001b[49m\u001b[43m.\u001b[49m\u001b[43mDataFrame\u001b[49m\u001b[43m(\u001b[49m\u001b[43mX_test\u001b[49m\u001b[43m)\u001b[49m\u001b[43m)\u001b[49m\n",
      "\u001b[36mFile \u001b[39m\u001b[32mc:\\Users\\RTX\\miniconda3\\envs\\mlops-course\\Lib\\site-packages\\sklearn\\tree\\_classes.py:529\u001b[39m, in \u001b[36mBaseDecisionTree.predict\u001b[39m\u001b[34m(self, X, check_input)\u001b[39m\n\u001b[32m    506\u001b[39m \u001b[38;5;28;01mdef\u001b[39;00m\u001b[38;5;250m \u001b[39m\u001b[34mpredict\u001b[39m(\u001b[38;5;28mself\u001b[39m, X, check_input=\u001b[38;5;28;01mTrue\u001b[39;00m):\n\u001b[32m    507\u001b[39m \u001b[38;5;250m    \u001b[39m\u001b[33;03m\"\"\"Predict class or regression value for X.\u001b[39;00m\n\u001b[32m    508\u001b[39m \n\u001b[32m    509\u001b[39m \u001b[33;03m    For a classification model, the predicted class for each sample in X is\u001b[39;00m\n\u001b[32m   (...)\u001b[39m\u001b[32m    527\u001b[39m \u001b[33;03m        The predicted classes, or the predict values.\u001b[39;00m\n\u001b[32m    528\u001b[39m \u001b[33;03m    \"\"\"\u001b[39;00m\n\u001b[32m--> \u001b[39m\u001b[32m529\u001b[39m     \u001b[43mcheck_is_fitted\u001b[49m\u001b[43m(\u001b[49m\u001b[38;5;28;43mself\u001b[39;49m\u001b[43m)\u001b[49m\n\u001b[32m    530\u001b[39m     X = \u001b[38;5;28mself\u001b[39m._validate_X_predict(X, check_input)\n\u001b[32m    531\u001b[39m     proba = \u001b[38;5;28mself\u001b[39m.tree_.predict(X)\n",
      "\u001b[36mFile \u001b[39m\u001b[32mc:\\Users\\RTX\\miniconda3\\envs\\mlops-course\\Lib\\site-packages\\sklearn\\utils\\validation.py:1757\u001b[39m, in \u001b[36mcheck_is_fitted\u001b[39m\u001b[34m(estimator, attributes, msg, all_or_any)\u001b[39m\n\u001b[32m   1754\u001b[39m     \u001b[38;5;28;01mreturn\u001b[39;00m\n\u001b[32m   1756\u001b[39m \u001b[38;5;28;01mif\u001b[39;00m \u001b[38;5;129;01mnot\u001b[39;00m _is_fitted(estimator, attributes, all_or_any):\n\u001b[32m-> \u001b[39m\u001b[32m1757\u001b[39m     \u001b[38;5;28;01mraise\u001b[39;00m NotFittedError(msg % {\u001b[33m\"\u001b[39m\u001b[33mname\u001b[39m\u001b[33m\"\u001b[39m: \u001b[38;5;28mtype\u001b[39m(estimator).\u001b[34m__name__\u001b[39m})\n",
      "\u001b[31mNotFittedError\u001b[39m: This DecisionTreeClassifier instance is not fitted yet. Call 'fit' with appropriate arguments before using this estimator."
     ]
    }
   ],
   "source": [
    "dt.predict(pd.DataFrame(X_test))"
   ]
  },
  {
   "cell_type": "code",
   "execution_count": 30,
   "id": "9d724ce5",
   "metadata": {},
   "outputs": [
    {
     "data": {
      "text/plain": [
       "array([0, 1, 1, 1, 1, 1, 0, 0, 1, 1, 1, 1, 1, 1, 1, 1, 1, 1, 1, 1, 1, 1,\n",
       "       1, 1, 1, 1, 1, 1, 1, 1, 1, 1, 1, 1, 1, 1, 1, 1, 1, 0, 1, 1, 1, 0,\n",
       "       0, 1, 1, 0, 1, 1, 1, 1, 1, 1, 0, 1, 0, 1, 1, 1, 1, 1, 1, 1, 1, 1,\n",
       "       1, 1, 1, 1, 0, 1, 1, 1, 1, 1, 1, 1, 1, 1, 1, 0, 1, 1, 0, 1, 1, 1,\n",
       "       1, 0, 1, 1, 1, 1, 1, 1, 1, 1, 1, 1, 1, 1, 1, 1, 1, 1, 1, 0, 1, 1,\n",
       "       0, 0, 1, 1, 1, 1, 1, 1, 1, 1, 1, 1, 1, 1, 1, 0, 0, 1, 1, 1, 1, 1,\n",
       "       1, 1, 1, 0, 1, 1, 0, 1, 1, 0, 1, 0, 1, 1, 1, 1, 1, 1, 1, 1, 1, 1,\n",
       "       0, 1, 1, 1, 1, 1, 1, 0, 1, 1, 0, 1, 1, 1, 1, 1, 1, 0, 1, 0, 1, 1,\n",
       "       1, 1, 1, 1, 1, 1, 1, 1, 1])"
      ]
     },
     "execution_count": 30,
     "metadata": {},
     "output_type": "execute_result"
    }
   ],
   "source": [
    "logged_model = 'runs:/b3848d6bfcf54499951322f4b5984e5e/DecisionTreeClassifier'\n",
    "\n",
    "# Load model as a PyFuncModel.\n",
    "loaded_model = mlflow.pyfunc.load_model(logged_model)\n",
    "\n",
    "# Predict on a Pandas DataFrame.\n",
    "loaded_model.predict(pd.DataFrame(X_test))"
   ]
  },
  {
   "cell_type": "code",
   "execution_count": 8,
   "id": "bbdd2f1c",
   "metadata": {},
   "outputs": [
    {
     "name": "stdout",
     "output_type": "stream",
     "text": [
      ":: [Info] ::  Mirror: https://www.python.org/ftp/python\n",
      "pyenv-install: definition not found: 3.12.9\n",
      "\n",
      "See all available versions with `pyenv install --list'.\n"
     ]
    },
    {
     "name": "stderr",
     "output_type": "stream",
     "text": [
      "2025/04/30 01:21:49 INFO mlflow.models.flavor_backend_registry: Selected backend for flavor 'python_function'\n",
      "2025/04/30 01:21:53 INFO mlflow.utils.virtualenv: Installing python 3.12.9 if it does not exist\n",
      "Traceback (most recent call last):\n",
      "  File \"<frozen runpy>\", line 198, in _run_module_as_main\n",
      "  File \"<frozen runpy>\", line 88, in _run_code\n",
      "  File \"C:\\Users\\RTX\\miniconda3\\envs\\mlops-course\\Scripts\\mlflow.exe\\__main__.py\", line 7, in <module>\n",
      "  File \"C:\\Users\\RTX\\miniconda3\\envs\\mlops-course\\Lib\\site-packages\\click\\core.py\", line 1161, in __call__\n",
      "    return self.main(*args, **kwargs)\n",
      "           ^^^^^^^^^^^^^^^^^^^^^^^^^^\n",
      "  File \"C:\\Users\\RTX\\miniconda3\\envs\\mlops-course\\Lib\\site-packages\\click\\core.py\", line 1082, in main\n",
      "    rv = self.invoke(ctx)\n",
      "         ^^^^^^^^^^^^^^^^\n",
      "  File \"C:\\Users\\RTX\\miniconda3\\envs\\mlops-course\\Lib\\site-packages\\click\\core.py\", line 1697, in invoke\n",
      "    return _process_result(sub_ctx.command.invoke(sub_ctx))\n",
      "                           ^^^^^^^^^^^^^^^^^^^^^^^^^^^^^^^\n",
      "  File \"C:\\Users\\RTX\\miniconda3\\envs\\mlops-course\\Lib\\site-packages\\click\\core.py\", line 1697, in invoke\n",
      "    return _process_result(sub_ctx.command.invoke(sub_ctx))\n",
      "                           ^^^^^^^^^^^^^^^^^^^^^^^^^^^^^^^\n",
      "  File \"C:\\Users\\RTX\\miniconda3\\envs\\mlops-course\\Lib\\site-packages\\click\\core.py\", line 1443, in invoke\n",
      "    return ctx.invoke(self.callback, **ctx.params)\n",
      "           ^^^^^^^^^^^^^^^^^^^^^^^^^^^^^^^^^^^^^^^\n",
      "  File \"C:\\Users\\RTX\\miniconda3\\envs\\mlops-course\\Lib\\site-packages\\click\\core.py\", line 788, in invoke\n",
      "    return __callback(*args, **kwargs)\n",
      "           ^^^^^^^^^^^^^^^^^^^^^^^^^^^\n",
      "  File \"C:\\Users\\RTX\\miniconda3\\envs\\mlops-course\\Lib\\site-packages\\mlflow\\models\\cli.py\", line 104, in serve\n",
      "    ).serve(\n",
      "      ^^^^^^\n",
      "  File \"C:\\Users\\RTX\\miniconda3\\envs\\mlops-course\\Lib\\site-packages\\mlflow\\pyfunc\\backend.py\", line 297, in serve\n",
      "    return self.prepare_env(local_path).execute(\n",
      "           ^^^^^^^^^^^^^^^^^^^^^^^^^^^^\n",
      "  File \"C:\\Users\\RTX\\miniconda3\\envs\\mlops-course\\Lib\\site-packages\\mlflow\\pyfunc\\backend.py\", line 136, in prepare_env\n",
      "    activate_cmd = _get_or_create_virtualenv(\n",
      "                   ^^^^^^^^^^^^^^^^^^^^^^^^^^\n",
      "  File \"C:\\Users\\RTX\\miniconda3\\envs\\mlops-course\\Lib\\site-packages\\mlflow\\utils\\virtualenv.py\", line 434, in _get_or_create_virtualenv\n",
      "    return _create_virtualenv(\n",
      "           ^^^^^^^^^^^^^^^^^^^\n",
      "  File \"C:\\Users\\RTX\\miniconda3\\envs\\mlops-course\\Lib\\site-packages\\mlflow\\utils\\virtualenv.py\", line 264, in _create_virtualenv\n",
      "    python_bin_path = _install_python(\n",
      "                      ^^^^^^^^^^^^^^^^\n",
      "  File \"C:\\Users\\RTX\\miniconda3\\envs\\mlops-course\\Lib\\site-packages\\mlflow\\utils\\virtualenv.py\", line 137, in _install_python\n",
      "    _exec_cmd(\n",
      "  File \"C:\\Users\\RTX\\miniconda3\\envs\\mlops-course\\Lib\\site-packages\\mlflow\\utils\\process.py\", line 141, in _exec_cmd\n",
      "    raise ShellCommandException.from_completed_process(comp_process)\n",
      "mlflow.utils.process.ShellCommandException: Non-zero exit code: 1\n",
      "Command: ['C:\\\\Users\\\\RTX\\\\.pyenv\\\\pyenv-win\\\\bin\\\\pyenv.BAT', 'install', '3.12.9']\n"
     ]
    }
   ],
   "source": [
    "!mlflow models serve -m mlflow-artifacts:/616713827796020567/ebfcc53f9c914f449567b82846e71dc7/artifacts/LogisticRegression --port 9000                            "
   ]
  },
  {
   "cell_type": "markdown",
   "id": "5767debb",
   "metadata": {},
   "source": [
    "## Auto Logging"
   ]
  },
  {
   "cell_type": "markdown",
   "id": "0618bdb2",
   "metadata": {},
   "source": [
    "This will enable MLflow to automatically log various information about your run, including:\n",
    "- Metrics - MLflow pre-selects a set of metrics to log, based on what model and library you use\n",
    "- Parameters - hyper params specified for the training, plus default values provided by the library if not explicitly set\n",
    "- Model Signature - logs Model signature instance, which describes input and output schema of the model\n",
    "- Artifacts - e.g. model checkpoints\n",
    "- Dataset - dataset object used for training (if applicable), such as tensorflow.data.Dataset\n"
   ]
  },
  {
   "cell_type": "code",
   "execution_count": 19,
   "id": "dfc7dbac",
   "metadata": {},
   "outputs": [
    {
     "name": "stderr",
     "output_type": "stream",
     "text": [
      "2025/05/10 03:46:12 INFO mlflow.tracking.fluent: Experiment with name 'Loan_prediction_2' does not exist. Creating a new experiment.\n"
     ]
    },
    {
     "data": {
      "text/plain": [
       "<Experiment: artifact_location='mlflow-artifacts:/760520234981114590', creation_time=1746837972837, experiment_id='760520234981114590', last_update_time=1746837972837, lifecycle_stage='active', name='Loan_prediction_2', tags={}>"
      ]
     },
     "execution_count": 19,
     "metadata": {},
     "output_type": "execute_result"
    }
   ],
   "source": [
    "mlflow.set_experiment(\"Loan_prediction_2\")"
   ]
  },
  {
   "cell_type": "code",
   "execution_count": 20,
   "id": "ddb6f076",
   "metadata": {},
   "outputs": [
    {
     "name": "stderr",
     "output_type": "stream",
     "text": [
      "2025/05/10 03:46:13 INFO mlflow.tracking.fluent: Autologging successfully enabled for sklearn.\n",
      "2025/05/10 03:46:13 INFO mlflow.utils.autologging_utils: Created MLflow autologging run with ID '26d5c0eb393f4fbb85c6b9bd843fc92e', which will track hyperparameters, performance metrics, model artifacts, and lineage information for the current sklearn workflow\n",
      "2025/05/10 03:46:13 WARNING mlflow.utils.autologging_utils: MLflow autologging encountered a warning: \"c:\\Users\\RTX\\miniconda3\\envs\\mlops-course\\Lib\\site-packages\\mlflow\\types\\utils.py:452: UserWarning: Hint: Inferred schema contains integer column(s). Integer columns in Python cannot represent missing values. If your input data contains missing values at inference time, it will be encoded as floats and will cause a schema enforcement error. The best way to avoid this problem is to infer the model schema based on a realistic data sample (training dataset) that includes missing values. Alternatively, you can declare integer columns as doubles (float64) whenever these columns may have missing values. See `Handling Integers With Missing Values <https://www.mlflow.org/docs/latest/models.html#handling-integers-with-missing-values>`_ for more details.\"\n",
      "2025/05/10 03:46:32 WARNING mlflow.utils.autologging_utils: MLflow autologging encountered a warning: \"c:\\Users\\RTX\\miniconda3\\envs\\mlops-course\\Lib\\site-packages\\mlflow\\types\\utils.py:452: UserWarning: Hint: Inferred schema contains integer column(s). Integer columns in Python cannot represent missing values. If your input data contains missing values at inference time, it will be encoded as floats and will cause a schema enforcement error. The best way to avoid this problem is to infer the model schema based on a realistic data sample (training dataset) that includes missing values. Alternatively, you can declare integer columns as doubles (float64) whenever these columns may have missing values. See `Handling Integers With Missing Values <https://www.mlflow.org/docs/latest/models.html#handling-integers-with-missing-values>`_ for more details.\"\n",
      "2025/05/10 03:46:42 INFO mlflow.sklearn.utils: Logging the 5 best runs, 31 runs will be omitted.\n"
     ]
    },
    {
     "name": "stdout",
     "output_type": "stream",
     "text": [
      "🏃 View run wise-ray-823 at: http://localhost:5000/#/experiments/760520234981114590/runs/107f6c8293d94006aa4708794ec6fe9c\n",
      "🧪 View experiment at: http://localhost:5000/#/experiments/760520234981114590\n"
     ]
    },
    {
     "name": "stderr",
     "output_type": "stream",
     "text": [
      "2025/05/10 03:46:45 INFO mlflow.utils.autologging_utils: Created MLflow autologging run with ID '3eb4caefd9934d5bb9d2fd9be5631112', which will track hyperparameters, performance metrics, model artifacts, and lineage information for the current sklearn workflow\n"
     ]
    },
    {
     "name": "stdout",
     "output_type": "stream",
     "text": [
      "🏃 View run efficient-dove-660 at: http://localhost:5000/#/experiments/760520234981114590/runs/5cf55769dea3449e8a83aea777bf6fed\n",
      "🧪 View experiment at: http://localhost:5000/#/experiments/760520234981114590\n",
      "🏃 View run luxuriant-snake-756 at: http://localhost:5000/#/experiments/760520234981114590/runs/864433e97d5e435fa3a17bffec027cb5\n",
      "🧪 View experiment at: http://localhost:5000/#/experiments/760520234981114590\n",
      "🏃 View run welcoming-chimp-378 at: http://localhost:5000/#/experiments/760520234981114590/runs/a24b094e792942f7a5141379b29cd712\n",
      "🧪 View experiment at: http://localhost:5000/#/experiments/760520234981114590\n",
      "🏃 View run secretive-skunk-447 at: http://localhost:5000/#/experiments/760520234981114590/runs/b6d4919e51cc485eb1361d4c49e85cf6\n",
      "🧪 View experiment at: http://localhost:5000/#/experiments/760520234981114590\n",
      "🏃 View run intrigued-seal-678 at: http://localhost:5000/#/experiments/760520234981114590/runs/26d5c0eb393f4fbb85c6b9bd843fc92e\n",
      "🧪 View experiment at: http://localhost:5000/#/experiments/760520234981114590\n"
     ]
    },
    {
     "name": "stderr",
     "output_type": "stream",
     "text": [
      "2025/05/10 03:46:45 WARNING mlflow.utils.autologging_utils: MLflow autologging encountered a warning: \"c:\\Users\\RTX\\miniconda3\\envs\\mlops-course\\Lib\\site-packages\\mlflow\\types\\utils.py:452: UserWarning: Hint: Inferred schema contains integer column(s). Integer columns in Python cannot represent missing values. If your input data contains missing values at inference time, it will be encoded as floats and will cause a schema enforcement error. The best way to avoid this problem is to infer the model schema based on a realistic data sample (training dataset) that includes missing values. Alternatively, you can declare integer columns as doubles (float64) whenever these columns may have missing values. See `Handling Integers With Missing Values <https://www.mlflow.org/docs/latest/models.html#handling-integers-with-missing-values>`_ for more details.\"\n",
      "2025/05/10 03:46:45 WARNING mlflow.utils.autologging_utils: MLflow autologging encountered a warning: \"c:\\Users\\RTX\\miniconda3\\envs\\mlops-course\\Lib\\site-packages\\mlflow\\types\\utils.py:452: UserWarning: Hint: Inferred schema contains integer column(s). Integer columns in Python cannot represent missing values. If your input data contains missing values at inference time, it will be encoded as floats and will cause a schema enforcement error. The best way to avoid this problem is to infer the model schema based on a realistic data sample (training dataset) that includes missing values. Alternatively, you can declare integer columns as doubles (float64) whenever these columns may have missing values. See `Handling Integers With Missing Values <https://www.mlflow.org/docs/latest/models.html#handling-integers-with-missing-values>`_ for more details.\"\n",
      "2025/05/10 03:46:55 INFO mlflow.sklearn.utils: Logging the 5 best runs, 5 runs will be omitted.\n"
     ]
    },
    {
     "name": "stdout",
     "output_type": "stream",
     "text": [
      "🏃 View run angry-conch-159 at: http://localhost:5000/#/experiments/760520234981114590/runs/0b8484d0ae8041679e8f2c9131cc34c8\n",
      "🧪 View experiment at: http://localhost:5000/#/experiments/760520234981114590\n",
      "🏃 View run bemused-lamb-22 at: http://localhost:5000/#/experiments/760520234981114590/runs/99c8549b84f54811949abab645491af1\n",
      "🧪 View experiment at: http://localhost:5000/#/experiments/760520234981114590\n",
      "🏃 View run mysterious-carp-595 at: http://localhost:5000/#/experiments/760520234981114590/runs/0ef8ba85bec4475983f1cd59baf00cb0\n",
      "🧪 View experiment at: http://localhost:5000/#/experiments/760520234981114590\n",
      "🏃 View run upbeat-boar-376 at: http://localhost:5000/#/experiments/760520234981114590/runs/afbc0a4b371844dcbb0efdab6c77f25b\n",
      "🧪 View experiment at: http://localhost:5000/#/experiments/760520234981114590\n",
      "🏃 View run capable-lamb-600 at: http://localhost:5000/#/experiments/760520234981114590/runs/c5381ed6349e4bc09792e878c28893fa\n",
      "🧪 View experiment at: http://localhost:5000/#/experiments/760520234981114590\n",
      "🏃 View run invincible-fox-153 at: http://localhost:5000/#/experiments/760520234981114590/runs/3eb4caefd9934d5bb9d2fd9be5631112\n",
      "🧪 View experiment at: http://localhost:5000/#/experiments/760520234981114590\n"
     ]
    },
    {
     "name": "stderr",
     "output_type": "stream",
     "text": [
      "2025/05/10 03:46:55 INFO mlflow.utils.autologging_utils: Created MLflow autologging run with ID '55ff1b1dcdc246c0964b215cf785ea89', which will track hyperparameters, performance metrics, model artifacts, and lineage information for the current sklearn workflow\n",
      "2025/05/10 03:46:55 WARNING mlflow.utils.autologging_utils: MLflow autologging encountered a warning: \"c:\\Users\\RTX\\miniconda3\\envs\\mlops-course\\Lib\\site-packages\\mlflow\\types\\utils.py:452: UserWarning: Hint: Inferred schema contains integer column(s). Integer columns in Python cannot represent missing values. If your input data contains missing values at inference time, it will be encoded as floats and will cause a schema enforcement error. The best way to avoid this problem is to infer the model schema based on a realistic data sample (training dataset) that includes missing values. Alternatively, you can declare integer columns as doubles (float64) whenever these columns may have missing values. See `Handling Integers With Missing Values <https://www.mlflow.org/docs/latest/models.html#handling-integers-with-missing-values>`_ for more details.\"\n",
      "2025/05/10 03:46:56 WARNING mlflow.utils.autologging_utils: MLflow autologging encountered a warning: \"c:\\Users\\RTX\\miniconda3\\envs\\mlops-course\\Lib\\site-packages\\mlflow\\types\\utils.py:452: UserWarning: Hint: Inferred schema contains integer column(s). Integer columns in Python cannot represent missing values. If your input data contains missing values at inference time, it will be encoded as floats and will cause a schema enforcement error. The best way to avoid this problem is to infer the model schema based on a realistic data sample (training dataset) that includes missing values. Alternatively, you can declare integer columns as doubles (float64) whenever these columns may have missing values. See `Handling Integers With Missing Values <https://www.mlflow.org/docs/latest/models.html#handling-integers-with-missing-values>`_ for more details.\"\n",
      "2025/05/10 03:47:06 INFO mlflow.sklearn.utils: Logging the 5 best runs, 7 runs will be omitted.\n"
     ]
    },
    {
     "name": "stdout",
     "output_type": "stream",
     "text": [
      "🏃 View run delightful-moth-363 at: http://localhost:5000/#/experiments/760520234981114590/runs/3138d388a1f948afb3d266ea5ae2c939\n",
      "🧪 View experiment at: http://localhost:5000/#/experiments/760520234981114590\n",
      "🏃 View run wise-mare-284 at: http://localhost:5000/#/experiments/760520234981114590/runs/7f030541e8d545749aedefa4137ddfdf\n",
      "🧪 View experiment at: http://localhost:5000/#/experiments/760520234981114590\n",
      "🏃 View run fun-stag-156 at: http://localhost:5000/#/experiments/760520234981114590/runs/ac606bde3430453aa6fad0084f6d105e\n",
      "🧪 View experiment at: http://localhost:5000/#/experiments/760520234981114590\n",
      "🏃 View run traveling-goose-87 at: http://localhost:5000/#/experiments/760520234981114590/runs/8a8482339f784e618e0e4be904c8a6a4\n",
      "🧪 View experiment at: http://localhost:5000/#/experiments/760520234981114590\n",
      "🏃 View run debonair-goose-605 at: http://localhost:5000/#/experiments/760520234981114590/runs/1f37a4c1d1b84c88ab7b3df503a20f4e\n",
      "🧪 View experiment at: http://localhost:5000/#/experiments/760520234981114590\n",
      "🏃 View run youthful-cub-654 at: http://localhost:5000/#/experiments/760520234981114590/runs/55ff1b1dcdc246c0964b215cf785ea89\n",
      "🧪 View experiment at: http://localhost:5000/#/experiments/760520234981114590\n"
     ]
    }
   ],
   "source": [
    "mlflow.autolog()\n",
    "\n",
    "## Customizing autologging\n",
    "# mlflow.autolog(\n",
    "#     log_model_signatures=False,\n",
    "#     extra_tags={\"YOUR_TAG\": \"VALUE\"},\n",
    "# )\n",
    "\n",
    "\n",
    "\n",
    "# RandomForest\n",
    "rf = RandomForestClassifier(random_state=RANDOM_SEED)\n",
    "param_grid_forest = {\n",
    "    'n_estimators': [200,400, 700],\n",
    "    'max_depth': [10,20,30],\n",
    "    'criterion' : [\"gini\", \"entropy\"],\n",
    "    'max_leaf_nodes': [50, 100]\n",
    "}\n",
    "\n",
    "grid_forest = GridSearchCV(\n",
    "        estimator=rf,\n",
    "        param_grid=param_grid_forest, \n",
    "        cv=5, \n",
    "        n_jobs=-1, \n",
    "        scoring='accuracy',\n",
    "        verbose=0\n",
    "    )\n",
    "model_forest = grid_forest.fit(X_train, y_train)\n",
    "\n",
    "#Logistic Regression\n",
    "\n",
    "lr = LogisticRegression(random_state=RANDOM_SEED)\n",
    "param_grid_log = {\n",
    "    'C': [100, 10, 1.0, 0.1, 0.01],\n",
    "    'penalty': ['l1','l2'],\n",
    "    'solver':['liblinear']\n",
    "}\n",
    "\n",
    "grid_log = GridSearchCV(\n",
    "        estimator=lr,\n",
    "        param_grid=param_grid_log, \n",
    "        cv=5,\n",
    "        n_jobs=-1,\n",
    "        scoring='accuracy',\n",
    "        verbose=0\n",
    "    )\n",
    "model_log = grid_log.fit(X_train, y_train)\n",
    "\n",
    "#Decision Tree\n",
    "\n",
    "dt = DecisionTreeClassifier(\n",
    "    random_state=RANDOM_SEED\n",
    ")\n",
    "\n",
    "param_grid_tree = {\n",
    "    \"max_depth\": [3, 5, 7, 9, 11, 13],\n",
    "    'criterion' : [\"gini\", \"entropy\"],\n",
    "}\n",
    "\n",
    "grid_tree = GridSearchCV(\n",
    "        estimator=dt,\n",
    "        param_grid=param_grid_tree, \n",
    "        cv=5,\n",
    "        n_jobs=-1,\n",
    "        scoring='accuracy',\n",
    "        verbose=0\n",
    "    )\n",
    "model_tree = grid_tree.fit(X_train, y_train)\n"
   ]
  }
 ],
 "metadata": {
  "kernelspec": {
   "display_name": "mlops-course",
   "language": "python",
   "name": "python3"
  },
  "language_info": {
   "codemirror_mode": {
    "name": "ipython",
    "version": 3
   },
   "file_extension": ".py",
   "mimetype": "text/x-python",
   "name": "python",
   "nbconvert_exporter": "python",
   "pygments_lexer": "ipython3",
   "version": "3.12.9"
  }
 },
 "nbformat": 4,
 "nbformat_minor": 5
}
